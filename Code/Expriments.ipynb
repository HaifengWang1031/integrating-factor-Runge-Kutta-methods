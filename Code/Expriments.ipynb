{
 "cells": [
  {
   "cell_type": "code",
   "execution_count": 1,
   "metadata": {},
   "outputs": [],
   "source": [
    "import numpy as np\n",
    "import matplotlib.pyplot as plt\n",
    "import scipy.optimize\n",
    "\n",
    "from Allen_Cahn_Solver import *"
   ]
  },
  {
   "attachments": {},
   "cell_type": "markdown",
   "metadata": {},
   "source": [
    "# Convergence Test"
   ]
  },
  {
   "cell_type": "code",
   "execution_count": 2,
   "metadata": {},
   "outputs": [],
   "source": [
    "t_period = 1\n",
    "s_domain = (0,1)\n",
    "N = 1024\n",
    "discrete_num = N\n",
    "xn = np.linspace(s_domain[0],s_domain[1],N+1)\n",
    "\n",
    "initial_condition = 0.1*(np.sin(3*np.pi*xn) + np.sin(5*np.pi*xn))\n",
    "boundary_condition = \"periodic\"\n",
    "potential = \"flory_huggins\" "
   ]
  },
  {
   "cell_type": "code",
   "execution_count": 3,
   "metadata": {},
   "outputs": [
    {
     "name": "stderr",
     "output_type": "stream",
     "text": [
      "99.98% |█████████▉| 1.00/1.00[00:45<00:00] , time_step=0.000244, energy=-.00473, maximum_val=0.236 \n"
     ]
    },
    {
     "name": "stdout",
     "output_type": "stream",
     "text": [
      "IFRK1, time_step:2^-1\n"
     ]
    },
    {
     "name": "stderr",
     "output_type": "stream",
     "text": [
      "66.67% |██████▋   | 1.00/1.50[00:00<00:00] , time_step=0.5, energy=-.0037, maximum_val=0.209\n"
     ]
    },
    {
     "name": "stdout",
     "output_type": "stream",
     "text": [
      "IFRK2, time_step:2^-1\n"
     ]
    },
    {
     "name": "stderr",
     "output_type": "stream",
     "text": [
      "66.67% |██████▋   | 1.00/1.50[00:00<00:00] , time_step=0.5, energy=-.00459, maximum_val=0.233\n"
     ]
    },
    {
     "name": "stdout",
     "output_type": "stream",
     "text": [
      "IFRK3, time_step:2^-1\n"
     ]
    },
    {
     "name": "stderr",
     "output_type": "stream",
     "text": [
      "66.67% |██████▋   | 1.00/1.50[00:00<00:00] , time_step=0.5, energy=-.00472, maximum_val=0.236\n"
     ]
    },
    {
     "name": "stdout",
     "output_type": "stream",
     "text": [
      "IFRK4, time_step:2^-1\n"
     ]
    },
    {
     "name": "stderr",
     "output_type": "stream",
     "text": [
      "66.67% |██████▋   | 1.00/1.50[00:00<00:00] , time_step=0.5, energy=-.00473, maximum_val=0.236\n"
     ]
    },
    {
     "name": "stdout",
     "output_type": "stream",
     "text": [
      "IFRK54, time_step:2^-1\n"
     ]
    },
    {
     "name": "stderr",
     "output_type": "stream",
     "text": [
      "66.67% |██████▋   | 1.00/1.50[00:00<00:00] , time_step=0.5, energy=-.00473, maximum_val=0.236\n"
     ]
    },
    {
     "name": "stdout",
     "output_type": "stream",
     "text": [
      "IFRK1, time_step:2^-2\n"
     ]
    },
    {
     "name": "stderr",
     "output_type": "stream",
     "text": [
      "80.00% |████████  | 1.00/1.25[00:00<00:00] , time_step=0.25, energy=-.00413, maximum_val=0.221\n"
     ]
    },
    {
     "name": "stdout",
     "output_type": "stream",
     "text": [
      "IFRK2, time_step:2^-2\n"
     ]
    },
    {
     "name": "stderr",
     "output_type": "stream",
     "text": [
      "80.00% |████████  | 1.00/1.25[00:00<00:00] , time_step=0.25, energy=-.00469, maximum_val=0.235\n"
     ]
    },
    {
     "name": "stdout",
     "output_type": "stream",
     "text": [
      "IFRK3, time_step:2^-2\n"
     ]
    },
    {
     "name": "stderr",
     "output_type": "stream",
     "text": [
      "80.00% |████████  | 1.00/1.25[00:00<00:00] , time_step=0.25, energy=-.00473, maximum_val=0.236\n"
     ]
    },
    {
     "name": "stdout",
     "output_type": "stream",
     "text": [
      "IFRK4, time_step:2^-2\n"
     ]
    },
    {
     "name": "stderr",
     "output_type": "stream",
     "text": [
      "80.00% |████████  | 1.00/1.25[00:00<00:00] , time_step=0.25, energy=-.00473, maximum_val=0.236\n"
     ]
    },
    {
     "name": "stdout",
     "output_type": "stream",
     "text": [
      "IFRK54, time_step:2^-2\n"
     ]
    },
    {
     "name": "stderr",
     "output_type": "stream",
     "text": [
      "80.00% |████████  | 1.00/1.25[00:00<00:00] , time_step=0.25, energy=-.00473, maximum_val=0.236\n"
     ]
    },
    {
     "name": "stdout",
     "output_type": "stream",
     "text": [
      "IFRK1, time_step:2^-3\n"
     ]
    },
    {
     "name": "stderr",
     "output_type": "stream",
     "text": [
      "88.89% |████████▉ | 1.00/1.12[00:00<00:00] , time_step=0.125, energy=-.0044, maximum_val=0.228 \n"
     ]
    },
    {
     "name": "stdout",
     "output_type": "stream",
     "text": [
      "IFRK2, time_step:2^-3\n"
     ]
    },
    {
     "name": "stderr",
     "output_type": "stream",
     "text": [
      "88.89% |████████▉ | 1.00/1.12[00:00<00:00] , time_step=0.125, energy=-.00472, maximum_val=0.236\n"
     ]
    },
    {
     "name": "stdout",
     "output_type": "stream",
     "text": [
      "IFRK3, time_step:2^-3\n"
     ]
    },
    {
     "name": "stderr",
     "output_type": "stream",
     "text": [
      "88.89% |████████▉ | 1.00/1.12[00:00<00:00] , time_step=0.125, energy=-.00473, maximum_val=0.236\n"
     ]
    },
    {
     "name": "stdout",
     "output_type": "stream",
     "text": [
      "IFRK4, time_step:2^-3\n"
     ]
    },
    {
     "name": "stderr",
     "output_type": "stream",
     "text": [
      "88.89% |████████▉ | 1.00/1.12[00:00<00:00] , time_step=0.125, energy=-.00473, maximum_val=0.236\n"
     ]
    },
    {
     "name": "stdout",
     "output_type": "stream",
     "text": [
      "IFRK54, time_step:2^-3\n"
     ]
    },
    {
     "name": "stderr",
     "output_type": "stream",
     "text": [
      "88.89% |████████▉ | 1.00/1.12[00:00<00:00] , time_step=0.125, energy=-.00473, maximum_val=0.236\n"
     ]
    },
    {
     "name": "stdout",
     "output_type": "stream",
     "text": [
      "IFRK1, time_step:2^-4\n"
     ]
    },
    {
     "name": "stderr",
     "output_type": "stream",
     "text": [
      "94.12% |█████████▍| 1.00/1.06[00:00<00:00] , time_step=0.0625, energy=-.00456, maximum_val=0.232 \n"
     ]
    },
    {
     "name": "stdout",
     "output_type": "stream",
     "text": [
      "IFRK2, time_step:2^-4\n"
     ]
    },
    {
     "name": "stderr",
     "output_type": "stream",
     "text": [
      "94.12% |█████████▍| 1.00/1.06[00:00<00:00] , time_step=0.0625, energy=-.00473, maximum_val=0.236 \n"
     ]
    },
    {
     "name": "stdout",
     "output_type": "stream",
     "text": [
      "IFRK3, time_step:2^-4\n"
     ]
    },
    {
     "name": "stderr",
     "output_type": "stream",
     "text": [
      "94.12% |█████████▍| 1.00/1.06[00:00<00:00] , time_step=0.0625, energy=-.00473, maximum_val=0.236 \n"
     ]
    },
    {
     "name": "stdout",
     "output_type": "stream",
     "text": [
      "IFRK4, time_step:2^-4\n"
     ]
    },
    {
     "name": "stderr",
     "output_type": "stream",
     "text": [
      "94.12% |█████████▍| 1.00/1.06[00:00<00:00] , time_step=0.0625, energy=-.00473, maximum_val=0.236 \n"
     ]
    },
    {
     "name": "stdout",
     "output_type": "stream",
     "text": [
      "IFRK54, time_step:2^-4\n"
     ]
    },
    {
     "name": "stderr",
     "output_type": "stream",
     "text": [
      "94.12% |█████████▍| 1.00/1.06[00:00<00:00] , time_step=0.0625, energy=-.00473, maximum_val=0.236 \n"
     ]
    },
    {
     "name": "stdout",
     "output_type": "stream",
     "text": [
      "IFRK1, time_step:2^-5\n"
     ]
    },
    {
     "name": "stderr",
     "output_type": "stream",
     "text": [
      "96.97% |█████████▋| 1.00/1.03[00:00<00:00] , time_step=0.0312, energy=-.00464, maximum_val=0.234 \n"
     ]
    },
    {
     "name": "stdout",
     "output_type": "stream",
     "text": [
      "IFRK2, time_step:2^-5\n"
     ]
    },
    {
     "name": "stderr",
     "output_type": "stream",
     "text": [
      "96.97% |█████████▋| 1.00/1.03[00:00<00:00] , time_step=0.0312, energy=-.00473, maximum_val=0.236 \n"
     ]
    },
    {
     "name": "stdout",
     "output_type": "stream",
     "text": [
      "IFRK3, time_step:2^-5\n"
     ]
    },
    {
     "name": "stderr",
     "output_type": "stream",
     "text": [
      "96.97% |█████████▋| 1.00/1.03[00:00<00:00] , time_step=0.0312, energy=-.00473, maximum_val=0.236 \n"
     ]
    },
    {
     "name": "stdout",
     "output_type": "stream",
     "text": [
      "IFRK4, time_step:2^-5\n"
     ]
    },
    {
     "name": "stderr",
     "output_type": "stream",
     "text": [
      "96.97% |█████████▋| 1.00/1.03[00:00<00:00] , time_step=0.0312, energy=-.00473, maximum_val=0.236 \n"
     ]
    },
    {
     "name": "stdout",
     "output_type": "stream",
     "text": [
      "IFRK54, time_step:2^-5\n"
     ]
    },
    {
     "name": "stderr",
     "output_type": "stream",
     "text": [
      "96.97% |█████████▋| 1.00/1.03[00:00<00:00] , time_step=0.0312, energy=-.00473, maximum_val=0.236 \n"
     ]
    },
    {
     "name": "stdout",
     "output_type": "stream",
     "text": [
      "IFRK1, time_step:2^-6\n"
     ]
    },
    {
     "name": "stderr",
     "output_type": "stream",
     "text": [
      "98.46% |█████████▊| 1.00/1.02[00:00<00:00] , time_step=0.0156, energy=-.00469, maximum_val=0.235 \n"
     ]
    },
    {
     "name": "stdout",
     "output_type": "stream",
     "text": [
      "IFRK2, time_step:2^-6\n"
     ]
    },
    {
     "name": "stderr",
     "output_type": "stream",
     "text": [
      "98.46% |█████████▊| 1.00/1.02[00:00<00:00] , time_step=0.0156, energy=-.00473, maximum_val=0.236 \n"
     ]
    },
    {
     "name": "stdout",
     "output_type": "stream",
     "text": [
      "IFRK3, time_step:2^-6\n"
     ]
    },
    {
     "name": "stderr",
     "output_type": "stream",
     "text": [
      "98.46% |█████████▊| 1.00/1.02[00:00<00:00] , time_step=0.0156, energy=-.00473, maximum_val=0.236 \n"
     ]
    },
    {
     "name": "stdout",
     "output_type": "stream",
     "text": [
      "IFRK4, time_step:2^-6\n"
     ]
    },
    {
     "name": "stderr",
     "output_type": "stream",
     "text": [
      "98.46% |█████████▊| 1.00/1.02[00:00<00:00] , time_step=0.0156, energy=-.00473, maximum_val=0.236 \n"
     ]
    },
    {
     "name": "stdout",
     "output_type": "stream",
     "text": [
      "IFRK54, time_step:2^-6\n"
     ]
    },
    {
     "name": "stderr",
     "output_type": "stream",
     "text": [
      "98.46% |█████████▊| 1.00/1.02[00:00<00:00] , time_step=0.0156, energy=-.00473, maximum_val=0.236 \n"
     ]
    },
    {
     "name": "stdout",
     "output_type": "stream",
     "text": [
      "IFRK1, time_step:2^-7\n"
     ]
    },
    {
     "name": "stderr",
     "output_type": "stream",
     "text": [
      "99.22% |█████████▉| 1.00/1.01[00:00<00:00] , time_step=0.00781, energy=-.00471, maximum_val=0.236 \n"
     ]
    },
    {
     "name": "stdout",
     "output_type": "stream",
     "text": [
      "IFRK2, time_step:2^-7\n"
     ]
    },
    {
     "name": "stderr",
     "output_type": "stream",
     "text": [
      "99.22% |█████████▉| 1.00/1.01[00:00<00:00] , time_step=0.00781, energy=-.00473, maximum_val=0.236 \n"
     ]
    },
    {
     "name": "stdout",
     "output_type": "stream",
     "text": [
      "IFRK3, time_step:2^-7\n"
     ]
    },
    {
     "name": "stderr",
     "output_type": "stream",
     "text": [
      "99.22% |█████████▉| 1.00/1.01[00:00<00:00] , time_step=0.00781, energy=-.00473, maximum_val=0.236 \n"
     ]
    },
    {
     "name": "stdout",
     "output_type": "stream",
     "text": [
      "IFRK4, time_step:2^-7\n"
     ]
    },
    {
     "name": "stderr",
     "output_type": "stream",
     "text": [
      "99.22% |█████████▉| 1.00/1.01[00:00<00:00] , time_step=0.00781, energy=-.00473, maximum_val=0.236 \n"
     ]
    },
    {
     "name": "stdout",
     "output_type": "stream",
     "text": [
      "IFRK54, time_step:2^-7\n"
     ]
    },
    {
     "name": "stderr",
     "output_type": "stream",
     "text": [
      "99.22% |█████████▉| 1.00/1.01[00:00<00:00] , time_step=0.00781, energy=-.00473, maximum_val=0.236 \n"
     ]
    },
    {
     "name": "stdout",
     "output_type": "stream",
     "text": [
      "IFRK1, time_step:2^-8\n"
     ]
    },
    {
     "name": "stderr",
     "output_type": "stream",
     "text": [
      "99.61% |█████████▉| 1.00/1.00[00:00<00:00] , time_step=0.00391, energy=-.00472, maximum_val=0.236 \n"
     ]
    },
    {
     "name": "stdout",
     "output_type": "stream",
     "text": [
      "IFRK2, time_step:2^-8\n"
     ]
    },
    {
     "name": "stderr",
     "output_type": "stream",
     "text": [
      "99.61% |█████████▉| 1.00/1.00[00:00<00:00] , time_step=0.00391, energy=-.00473, maximum_val=0.236 \n"
     ]
    },
    {
     "name": "stdout",
     "output_type": "stream",
     "text": [
      "IFRK3, time_step:2^-8\n"
     ]
    },
    {
     "name": "stderr",
     "output_type": "stream",
     "text": [
      "99.61% |█████████▉| 1.00/1.00[00:00<00:00] , time_step=0.00391, energy=-.00473, maximum_val=0.236 \n"
     ]
    },
    {
     "name": "stdout",
     "output_type": "stream",
     "text": [
      "IFRK4, time_step:2^-8\n"
     ]
    },
    {
     "name": "stderr",
     "output_type": "stream",
     "text": [
      "99.61% |█████████▉| 1.00/1.00[00:00<00:00] , time_step=0.00391, energy=-.00473, maximum_val=0.236 \n"
     ]
    },
    {
     "name": "stdout",
     "output_type": "stream",
     "text": [
      "IFRK54, time_step:2^-8\n"
     ]
    },
    {
     "name": "stderr",
     "output_type": "stream",
     "text": [
      "99.61% |█████████▉| 1.00/1.00[00:00<00:00] , time_step=0.00391, energy=-.00473, maximum_val=0.236 \n"
     ]
    },
    {
     "name": "stdout",
     "output_type": "stream",
     "text": [
      "IFRK1, time_step:2^-9\n"
     ]
    },
    {
     "name": "stderr",
     "output_type": "stream",
     "text": [
      "99.81% |█████████▉| 1.00/1.00[00:00<00:00] , time_step=0.00195, energy=-.00473, maximum_val=0.236 \n"
     ]
    },
    {
     "name": "stdout",
     "output_type": "stream",
     "text": [
      "IFRK2, time_step:2^-9\n"
     ]
    },
    {
     "name": "stderr",
     "output_type": "stream",
     "text": [
      "99.81% |█████████▉| 1.00/1.00[00:00<00:00] , time_step=0.00195, energy=-.00473, maximum_val=0.236 \n"
     ]
    },
    {
     "name": "stdout",
     "output_type": "stream",
     "text": [
      "IFRK3, time_step:2^-9\n"
     ]
    },
    {
     "name": "stderr",
     "output_type": "stream",
     "text": [
      "99.81% |█████████▉| 1.00/1.00[00:00<00:00] , time_step=0.00195, energy=-.00473, maximum_val=0.236 \n"
     ]
    },
    {
     "name": "stdout",
     "output_type": "stream",
     "text": [
      "IFRK4, time_step:2^-9\n"
     ]
    },
    {
     "name": "stderr",
     "output_type": "stream",
     "text": [
      "99.81% |█████████▉| 1.00/1.00[00:00<00:00] , time_step=0.00195, energy=-.00473, maximum_val=0.236 \n"
     ]
    },
    {
     "name": "stdout",
     "output_type": "stream",
     "text": [
      "IFRK54, time_step:2^-9\n"
     ]
    },
    {
     "name": "stderr",
     "output_type": "stream",
     "text": [
      "99.81% |█████████▉| 1.00/1.00[00:00<00:00] , time_step=0.00195, energy=-.00473, maximum_val=0.236 \n"
     ]
    },
    {
     "name": "stdout",
     "output_type": "stream",
     "text": [
      "IFRK1, time_step:2^-10\n"
     ]
    },
    {
     "name": "stderr",
     "output_type": "stream",
     "text": [
      "99.90% |█████████▉| 1.00/1.00[00:01<00:00] , time_step=0.000977, energy=-.00473, maximum_val=0.236 \n"
     ]
    },
    {
     "name": "stdout",
     "output_type": "stream",
     "text": [
      "IFRK2, time_step:2^-10\n"
     ]
    },
    {
     "name": "stderr",
     "output_type": "stream",
     "text": [
      "99.90% |█████████▉| 1.00/1.00[00:01<00:00] , time_step=0.000977, energy=-.00473, maximum_val=0.236 \n"
     ]
    },
    {
     "name": "stdout",
     "output_type": "stream",
     "text": [
      "IFRK3, time_step:2^-10\n"
     ]
    },
    {
     "name": "stderr",
     "output_type": "stream",
     "text": [
      "99.90% |█████████▉| 1.00/1.00[00:01<00:00] , time_step=0.000977, energy=-.00473, maximum_val=0.236 \n"
     ]
    },
    {
     "name": "stdout",
     "output_type": "stream",
     "text": [
      "IFRK4, time_step:2^-10\n"
     ]
    },
    {
     "name": "stderr",
     "output_type": "stream",
     "text": [
      "99.90% |█████████▉| 1.00/1.00[00:02<00:00] , time_step=0.000977, energy=-.00473, maximum_val=0.236 \n"
     ]
    },
    {
     "name": "stdout",
     "output_type": "stream",
     "text": [
      "IFRK54, time_step:2^-10\n"
     ]
    },
    {
     "name": "stderr",
     "output_type": "stream",
     "text": [
      "99.90% |█████████▉| 1.00/1.00[00:02<00:00] , time_step=0.000977, energy=-.00473, maximum_val=0.236 \n"
     ]
    },
    {
     "name": "stdout",
     "output_type": "stream",
     "text": [
      "IFRK1, time_step:2^-11\n"
     ]
    },
    {
     "name": "stderr",
     "output_type": "stream",
     "text": [
      "99.95% |█████████▉| 1.00/1.00[00:06<00:00] , time_step=0.000488, energy=-.00473, maximum_val=0.236 \n"
     ]
    },
    {
     "name": "stdout",
     "output_type": "stream",
     "text": [
      "IFRK2, time_step:2^-11\n"
     ]
    },
    {
     "name": "stderr",
     "output_type": "stream",
     "text": [
      "99.95% |█████████▉| 1.00/1.00[00:06<00:00] , time_step=0.000488, energy=-.00473, maximum_val=0.236 \n"
     ]
    },
    {
     "name": "stdout",
     "output_type": "stream",
     "text": [
      "IFRK3, time_step:2^-11\n"
     ]
    },
    {
     "name": "stderr",
     "output_type": "stream",
     "text": [
      "99.95% |█████████▉| 1.00/1.00[00:06<00:00] , time_step=0.000488, energy=-.00473, maximum_val=0.236 \n"
     ]
    },
    {
     "name": "stdout",
     "output_type": "stream",
     "text": [
      "IFRK4, time_step:2^-11\n"
     ]
    },
    {
     "name": "stderr",
     "output_type": "stream",
     "text": [
      "99.95% |█████████▉| 1.00/1.00[00:06<00:00] , time_step=0.000488, energy=-.00473, maximum_val=0.236 \n"
     ]
    },
    {
     "name": "stdout",
     "output_type": "stream",
     "text": [
      "IFRK54, time_step:2^-11\n"
     ]
    },
    {
     "name": "stderr",
     "output_type": "stream",
     "text": [
      "99.95% |█████████▉| 1.00/1.00[00:06<00:00] , time_step=0.000488, energy=-.00473, maximum_val=0.236 \n"
     ]
    }
   ],
   "source": [
    "eps = 0.1\n",
    "reference_solver_01 = Allen_Cahn_fSolver_1D(eps,t_period,s_domain,2**-12,discrete_num,initial_condition,boundary_condition,potential,\n",
    "                                step_method=\"IFRK4\")\n",
    "reference_solver_01.solve()\n",
    "\n",
    "step_method_1 = \"IFRK1\"\n",
    "step_method_2 = \"IFRK2\"\n",
    "step_method_3 = \"IFRK3\"\n",
    "step_method_4 = \"IFRK4\"\n",
    "step_method_54 = \"IFRK54\"\n",
    "\n",
    "for i in range(1,12):\n",
    "    print(f\"IFRK1, time_step:2^-{i}\")\n",
    "    globals()[f\"solver_ifrk1_01_{i}\"] = Allen_Cahn_fSolver_1D(eps,t_period,s_domain,2**-i,discrete_num,initial_condition,boundary_condition,potential,step_method_1)\n",
    "    globals()[f\"solver_ifrk1_01_{i}\"].solve()\n",
    "\n",
    "    print(f\"IFRK2, time_step:2^-{i}\")\n",
    "    globals()[f\"solver_ifrk2_01_{i}\"] = Allen_Cahn_fSolver_1D(eps,t_period,s_domain,2**-i,discrete_num,initial_condition,boundary_condition,potential,step_method_2)\n",
    "    globals()[f\"solver_ifrk2_01_{i}\"].solve()\n",
    "\n",
    "    print(f\"IFRK3, time_step:2^-{i}\")\n",
    "    globals()[f\"solver_ifrk3_01_{i}\"] = Allen_Cahn_fSolver_1D(eps,t_period,s_domain,2**-i,discrete_num,initial_condition,boundary_condition,potential,step_method_3)\n",
    "    globals()[f\"solver_ifrk3_01_{i}\"].solve()\n",
    "\n",
    "    print(f\"IFRK4, time_step:2^-{i}\")\n",
    "    globals()[f\"solver_ifrk4_01_{i}\"] = Allen_Cahn_fSolver_1D(eps,t_period,s_domain,2**-i,discrete_num,initial_condition,boundary_condition,potential,step_method_4)\n",
    "    globals()[f\"solver_ifrk4_01_{i}\"].solve()\n",
    "\n",
    "    print(f\"IFRK54, time_step:2^-{i}\")\n",
    "    globals()[f\"solver_ifrk54_01_{i}\"] = Allen_Cahn_fSolver_1D(eps,t_period,s_domain,2**-i,discrete_num,initial_condition,boundary_condition,potential,step_method_54)\n",
    "    globals()[f\"solver_ifrk54_01_{i}\"].solve()"
   ]
  },
  {
   "cell_type": "code",
   "execution_count": 4,
   "metadata": {},
   "outputs": [],
   "source": [
    "error_ifrk1_01=[]\n",
    "error_ifrk2_01=[]\n",
    "error_ifrk3_01=[]\n",
    "error_ifrk4_01=[]\n",
    "error_ifrk54_01=[]\n",
    "\n",
    "for i in range(1,12):\n",
    "    error_ifrk1_01.append(np.max(np.abs(reference_solver_01.U[-1] - globals()[f\"solver_ifrk1_01_{i}\"].U[-1])))\n",
    "    error_ifrk2_01.append(np.max(np.abs(reference_solver_01.U[-1] - globals()[f\"solver_ifrk2_01_{i}\"].U[-1])))\n",
    "    error_ifrk3_01.append(np.max(np.abs(reference_solver_01.U[-1] - globals()[f\"solver_ifrk3_01_{i}\"].U[-1])))\n",
    "    error_ifrk4_01.append(np.max(np.abs(reference_solver_01.U[-1] - globals()[f\"solver_ifrk4_01_{i}\"].U[-1])))\n",
    "    error_ifrk54_01.append(np.max(np.abs(reference_solver_01.U[-1] - globals()[f\"solver_ifrk54_01_{i}\"].U[-1])))"
   ]
  },
  {
   "cell_type": "code",
   "execution_count": 5,
   "metadata": {},
   "outputs": [
    {
     "name": "stderr",
     "output_type": "stream",
     "text": [
      "99.98% |█████████▉| 1.00/1.00[00:41<00:00] , time_step=0.000244, energy=-.018, maximum_val=0.397  \n"
     ]
    },
    {
     "name": "stdout",
     "output_type": "stream",
     "text": [
      "IFRK1, time_step:2^-1\n"
     ]
    },
    {
     "name": "stderr",
     "output_type": "stream",
     "text": [
      "66.67% |██████▋   | 1.00/1.50[00:00<00:00] , time_step=0.5, energy=-.0142, maximum_val=0.354\n"
     ]
    },
    {
     "name": "stdout",
     "output_type": "stream",
     "text": [
      "IFRK2, time_step:2^-1\n"
     ]
    },
    {
     "name": "stderr",
     "output_type": "stream",
     "text": [
      "66.67% |██████▋   | 1.00/1.50[00:00<00:00] , time_step=0.5, energy=-.0175, maximum_val=0.392\n"
     ]
    },
    {
     "name": "stdout",
     "output_type": "stream",
     "text": [
      "IFRK3, time_step:2^-1\n"
     ]
    },
    {
     "name": "stderr",
     "output_type": "stream",
     "text": [
      "66.67% |██████▋   | 1.00/1.50[00:00<00:00] , time_step=0.5, energy=-.0179, maximum_val=0.397\n"
     ]
    },
    {
     "name": "stdout",
     "output_type": "stream",
     "text": [
      "IFRK4, time_step:2^-1\n"
     ]
    },
    {
     "name": "stderr",
     "output_type": "stream",
     "text": [
      "66.67% |██████▋   | 1.00/1.50[00:00<00:00] , time_step=0.5, energy=-.018, maximum_val=0.397\n"
     ]
    },
    {
     "name": "stdout",
     "output_type": "stream",
     "text": [
      "IFRK54, time_step:2^-1\n"
     ]
    },
    {
     "name": "stderr",
     "output_type": "stream",
     "text": [
      "66.67% |██████▋   | 1.00/1.50[00:00<00:00] , time_step=0.5, energy=-.018, maximum_val=0.397\n"
     ]
    },
    {
     "name": "stdout",
     "output_type": "stream",
     "text": [
      "IFRK1, time_step:2^-2\n"
     ]
    },
    {
     "name": "stderr",
     "output_type": "stream",
     "text": [
      "80.00% |████████  | 1.00/1.25[00:00<00:00] , time_step=0.25, energy=-.0158, maximum_val=0.373\n"
     ]
    },
    {
     "name": "stdout",
     "output_type": "stream",
     "text": [
      "IFRK2, time_step:2^-2\n"
     ]
    },
    {
     "name": "stderr",
     "output_type": "stream",
     "text": [
      "80.00% |████████  | 1.00/1.25[00:00<00:00] , time_step=0.25, energy=-.0178, maximum_val=0.396 \n"
     ]
    },
    {
     "name": "stdout",
     "output_type": "stream",
     "text": [
      "IFRK3, time_step:2^-2\n"
     ]
    },
    {
     "name": "stderr",
     "output_type": "stream",
     "text": [
      "80.00% |████████  | 1.00/1.25[00:00<00:00] , time_step=0.25, energy=-.018, maximum_val=0.397  \n"
     ]
    },
    {
     "name": "stdout",
     "output_type": "stream",
     "text": [
      "IFRK4, time_step:2^-2\n"
     ]
    },
    {
     "name": "stderr",
     "output_type": "stream",
     "text": [
      "80.00% |████████  | 1.00/1.25[00:00<00:00] , time_step=0.25, energy=-.018, maximum_val=0.397  \n"
     ]
    },
    {
     "name": "stdout",
     "output_type": "stream",
     "text": [
      "IFRK54, time_step:2^-2\n"
     ]
    },
    {
     "name": "stderr",
     "output_type": "stream",
     "text": [
      "80.00% |████████  | 1.00/1.25[00:00<00:00] , time_step=0.25, energy=-.018, maximum_val=0.397  \n"
     ]
    },
    {
     "name": "stdout",
     "output_type": "stream",
     "text": [
      "IFRK1, time_step:2^-3\n"
     ]
    },
    {
     "name": "stderr",
     "output_type": "stream",
     "text": [
      "88.89% |████████▉ | 1.00/1.12[00:00<00:00] , time_step=0.125, energy=-.0168, maximum_val=0.384 \n"
     ]
    },
    {
     "name": "stdout",
     "output_type": "stream",
     "text": [
      "IFRK2, time_step:2^-3\n"
     ]
    },
    {
     "name": "stderr",
     "output_type": "stream",
     "text": [
      "88.89% |████████▉ | 1.00/1.12[00:00<00:00] , time_step=0.125, energy=-.0179, maximum_val=0.397 \n"
     ]
    },
    {
     "name": "stdout",
     "output_type": "stream",
     "text": [
      "IFRK3, time_step:2^-3\n"
     ]
    },
    {
     "name": "stderr",
     "output_type": "stream",
     "text": [
      "88.89% |████████▉ | 1.00/1.12[00:00<00:00] , time_step=0.125, energy=-.018, maximum_val=0.397  \n"
     ]
    },
    {
     "name": "stdout",
     "output_type": "stream",
     "text": [
      "IFRK4, time_step:2^-3\n"
     ]
    },
    {
     "name": "stderr",
     "output_type": "stream",
     "text": [
      "88.89% |████████▉ | 1.00/1.12[00:00<00:00] , time_step=0.125, energy=-.018, maximum_val=0.397  \n"
     ]
    },
    {
     "name": "stdout",
     "output_type": "stream",
     "text": [
      "IFRK54, time_step:2^-3\n"
     ]
    },
    {
     "name": "stderr",
     "output_type": "stream",
     "text": [
      "88.89% |████████▉ | 1.00/1.12[00:00<00:00] , time_step=0.125, energy=-.018, maximum_val=0.397  \n"
     ]
    },
    {
     "name": "stdout",
     "output_type": "stream",
     "text": [
      "IFRK1, time_step:2^-4\n"
     ]
    },
    {
     "name": "stderr",
     "output_type": "stream",
     "text": [
      "94.12% |█████████▍| 1.00/1.06[00:00<00:00] , time_step=0.0625, energy=-.0174, maximum_val=0.391 \n"
     ]
    },
    {
     "name": "stdout",
     "output_type": "stream",
     "text": [
      "IFRK2, time_step:2^-4\n"
     ]
    },
    {
     "name": "stderr",
     "output_type": "stream",
     "text": [
      "94.12% |█████████▍| 1.00/1.06[00:00<00:00] , time_step=0.0625, energy=-.018, maximum_val=0.397  \n"
     ]
    },
    {
     "name": "stdout",
     "output_type": "stream",
     "text": [
      "IFRK3, time_step:2^-4\n"
     ]
    },
    {
     "name": "stderr",
     "output_type": "stream",
     "text": [
      "94.12% |█████████▍| 1.00/1.06[00:00<00:00] , time_step=0.0625, energy=-.018, maximum_val=0.397  \n"
     ]
    },
    {
     "name": "stdout",
     "output_type": "stream",
     "text": [
      "IFRK4, time_step:2^-4\n"
     ]
    },
    {
     "name": "stderr",
     "output_type": "stream",
     "text": [
      "94.12% |█████████▍| 1.00/1.06[00:00<00:00] , time_step=0.0625, energy=-.018, maximum_val=0.397  \n"
     ]
    },
    {
     "name": "stdout",
     "output_type": "stream",
     "text": [
      "IFRK54, time_step:2^-4\n"
     ]
    },
    {
     "name": "stderr",
     "output_type": "stream",
     "text": [
      "94.12% |█████████▍| 1.00/1.06[00:00<00:00] , time_step=0.0625, energy=-.018, maximum_val=0.397  \n"
     ]
    },
    {
     "name": "stdout",
     "output_type": "stream",
     "text": [
      "IFRK1, time_step:2^-5\n"
     ]
    },
    {
     "name": "stderr",
     "output_type": "stream",
     "text": [
      "96.97% |█████████▋| 1.00/1.03[00:00<00:00] , time_step=0.0312, energy=-.0177, maximum_val=0.394 \n"
     ]
    },
    {
     "name": "stdout",
     "output_type": "stream",
     "text": [
      "IFRK2, time_step:2^-5\n"
     ]
    },
    {
     "name": "stderr",
     "output_type": "stream",
     "text": [
      "96.97% |█████████▋| 1.00/1.03[00:00<00:00] , time_step=0.0312, energy=-.018, maximum_val=0.397  \n"
     ]
    },
    {
     "name": "stdout",
     "output_type": "stream",
     "text": [
      "IFRK3, time_step:2^-5\n"
     ]
    },
    {
     "name": "stderr",
     "output_type": "stream",
     "text": [
      "96.97% |█████████▋| 1.00/1.03[00:00<00:00] , time_step=0.0312, energy=-.018, maximum_val=0.397  \n"
     ]
    },
    {
     "name": "stdout",
     "output_type": "stream",
     "text": [
      "IFRK4, time_step:2^-5\n"
     ]
    },
    {
     "name": "stderr",
     "output_type": "stream",
     "text": [
      "96.97% |█████████▋| 1.00/1.03[00:00<00:00] , time_step=0.0312, energy=-.018, maximum_val=0.397  \n"
     ]
    },
    {
     "name": "stdout",
     "output_type": "stream",
     "text": [
      "IFRK54, time_step:2^-5\n"
     ]
    },
    {
     "name": "stderr",
     "output_type": "stream",
     "text": [
      "96.97% |█████████▋| 1.00/1.03[00:00<00:00] , time_step=0.0312, energy=-.018, maximum_val=0.397  \n"
     ]
    },
    {
     "name": "stdout",
     "output_type": "stream",
     "text": [
      "IFRK1, time_step:2^-6\n"
     ]
    },
    {
     "name": "stderr",
     "output_type": "stream",
     "text": [
      "98.46% |█████████▊| 1.00/1.02[00:00<00:00] , time_step=0.0156, energy=-.0178, maximum_val=0.395 \n"
     ]
    },
    {
     "name": "stdout",
     "output_type": "stream",
     "text": [
      "IFRK2, time_step:2^-6\n"
     ]
    },
    {
     "name": "stderr",
     "output_type": "stream",
     "text": [
      "98.46% |█████████▊| 1.00/1.02[00:00<00:00] , time_step=0.0156, energy=-.018, maximum_val=0.397  \n"
     ]
    },
    {
     "name": "stdout",
     "output_type": "stream",
     "text": [
      "IFRK3, time_step:2^-6\n"
     ]
    },
    {
     "name": "stderr",
     "output_type": "stream",
     "text": [
      "98.46% |█████████▊| 1.00/1.02[00:00<00:00] , time_step=0.0156, energy=-.018, maximum_val=0.397  \n"
     ]
    },
    {
     "name": "stdout",
     "output_type": "stream",
     "text": [
      "IFRK4, time_step:2^-6\n"
     ]
    },
    {
     "name": "stderr",
     "output_type": "stream",
     "text": [
      "98.46% |█████████▊| 1.00/1.02[00:00<00:00] , time_step=0.0156, energy=-.018, maximum_val=0.397  \n"
     ]
    },
    {
     "name": "stdout",
     "output_type": "stream",
     "text": [
      "IFRK54, time_step:2^-6\n"
     ]
    },
    {
     "name": "stderr",
     "output_type": "stream",
     "text": [
      "98.46% |█████████▊| 1.00/1.02[00:00<00:00] , time_step=0.0156, energy=-.018, maximum_val=0.397  \n"
     ]
    },
    {
     "name": "stdout",
     "output_type": "stream",
     "text": [
      "IFRK1, time_step:2^-7\n"
     ]
    },
    {
     "name": "stderr",
     "output_type": "stream",
     "text": [
      "99.22% |█████████▉| 1.00/1.01[00:00<00:00] , time_step=0.00781, energy=-.0179, maximum_val=0.396 \n"
     ]
    },
    {
     "name": "stdout",
     "output_type": "stream",
     "text": [
      "IFRK2, time_step:2^-7\n"
     ]
    },
    {
     "name": "stderr",
     "output_type": "stream",
     "text": [
      "99.22% |█████████▉| 1.00/1.01[00:00<00:00] , time_step=0.00781, energy=-.018, maximum_val=0.397  \n"
     ]
    },
    {
     "name": "stdout",
     "output_type": "stream",
     "text": [
      "IFRK3, time_step:2^-7\n"
     ]
    },
    {
     "name": "stderr",
     "output_type": "stream",
     "text": [
      "99.22% |█████████▉| 1.00/1.01[00:00<00:00] , time_step=0.00781, energy=-.018, maximum_val=0.397  \n"
     ]
    },
    {
     "name": "stdout",
     "output_type": "stream",
     "text": [
      "IFRK4, time_step:2^-7\n"
     ]
    },
    {
     "name": "stderr",
     "output_type": "stream",
     "text": [
      "99.22% |█████████▉| 1.00/1.01[00:00<00:00] , time_step=0.00781, energy=-.018, maximum_val=0.397  \n"
     ]
    },
    {
     "name": "stdout",
     "output_type": "stream",
     "text": [
      "IFRK54, time_step:2^-7\n"
     ]
    },
    {
     "name": "stderr",
     "output_type": "stream",
     "text": [
      "99.22% |█████████▉| 1.00/1.01[00:00<00:00] , time_step=0.00781, energy=-.018, maximum_val=0.397  \n"
     ]
    },
    {
     "name": "stdout",
     "output_type": "stream",
     "text": [
      "IFRK1, time_step:2^-8\n"
     ]
    },
    {
     "name": "stderr",
     "output_type": "stream",
     "text": [
      "99.61% |█████████▉| 1.00/1.00[00:00<00:00] , time_step=0.00391, energy=-.0179, maximum_val=0.397 \n"
     ]
    },
    {
     "name": "stdout",
     "output_type": "stream",
     "text": [
      "IFRK2, time_step:2^-8\n"
     ]
    },
    {
     "name": "stderr",
     "output_type": "stream",
     "text": [
      "99.61% |█████████▉| 1.00/1.00[00:00<00:00] , time_step=0.00391, energy=-.018, maximum_val=0.397  \n"
     ]
    },
    {
     "name": "stdout",
     "output_type": "stream",
     "text": [
      "IFRK3, time_step:2^-8\n"
     ]
    },
    {
     "name": "stderr",
     "output_type": "stream",
     "text": [
      "99.61% |█████████▉| 1.00/1.00[00:00<00:00] , time_step=0.00391, energy=-.018, maximum_val=0.397  \n"
     ]
    },
    {
     "name": "stdout",
     "output_type": "stream",
     "text": [
      "IFRK4, time_step:2^-8\n"
     ]
    },
    {
     "name": "stderr",
     "output_type": "stream",
     "text": [
      "99.61% |█████████▉| 1.00/1.00[00:00<00:00] , time_step=0.00391, energy=-.018, maximum_val=0.397  \n"
     ]
    },
    {
     "name": "stdout",
     "output_type": "stream",
     "text": [
      "IFRK54, time_step:2^-8\n"
     ]
    },
    {
     "name": "stderr",
     "output_type": "stream",
     "text": [
      "99.61% |█████████▉| 1.00/1.00[00:00<00:00] , time_step=0.00391, energy=-.018, maximum_val=0.397  \n"
     ]
    },
    {
     "name": "stdout",
     "output_type": "stream",
     "text": [
      "IFRK1, time_step:2^-9\n"
     ]
    },
    {
     "name": "stderr",
     "output_type": "stream",
     "text": [
      "99.81% |█████████▉| 1.00/1.00[00:00<00:00] , time_step=0.00195, energy=-.018, maximum_val=0.397  \n"
     ]
    },
    {
     "name": "stdout",
     "output_type": "stream",
     "text": [
      "IFRK2, time_step:2^-9\n"
     ]
    },
    {
     "name": "stderr",
     "output_type": "stream",
     "text": [
      "99.81% |█████████▉| 1.00/1.00[00:00<00:00] , time_step=0.00195, energy=-.018, maximum_val=0.397  \n"
     ]
    },
    {
     "name": "stdout",
     "output_type": "stream",
     "text": [
      "IFRK3, time_step:2^-9\n"
     ]
    },
    {
     "name": "stderr",
     "output_type": "stream",
     "text": [
      "99.81% |█████████▉| 1.00/1.00[00:00<00:00] , time_step=0.00195, energy=-.018, maximum_val=0.397  \n"
     ]
    },
    {
     "name": "stdout",
     "output_type": "stream",
     "text": [
      "IFRK4, time_step:2^-9\n"
     ]
    },
    {
     "name": "stderr",
     "output_type": "stream",
     "text": [
      "99.81% |█████████▉| 1.00/1.00[00:00<00:00] , time_step=0.00195, energy=-.018, maximum_val=0.397  \n"
     ]
    },
    {
     "name": "stdout",
     "output_type": "stream",
     "text": [
      "IFRK54, time_step:2^-9\n"
     ]
    },
    {
     "name": "stderr",
     "output_type": "stream",
     "text": [
      "99.81% |█████████▉| 1.00/1.00[00:00<00:00] , time_step=0.00195, energy=-.018, maximum_val=0.397  \n"
     ]
    },
    {
     "name": "stdout",
     "output_type": "stream",
     "text": [
      "IFRK1, time_step:2^-10\n"
     ]
    },
    {
     "name": "stderr",
     "output_type": "stream",
     "text": [
      "99.90% |█████████▉| 1.00/1.00[00:02<00:00] , time_step=0.000977, energy=-.018, maximum_val=0.397  \n"
     ]
    },
    {
     "name": "stdout",
     "output_type": "stream",
     "text": [
      "IFRK2, time_step:2^-10\n"
     ]
    },
    {
     "name": "stderr",
     "output_type": "stream",
     "text": [
      "99.90% |█████████▉| 1.00/1.00[00:02<00:00] , time_step=0.000977, energy=-.018, maximum_val=0.397  \n"
     ]
    },
    {
     "name": "stdout",
     "output_type": "stream",
     "text": [
      "IFRK3, time_step:2^-10\n"
     ]
    },
    {
     "name": "stderr",
     "output_type": "stream",
     "text": [
      "99.90% |█████████▉| 1.00/1.00[00:02<00:00] , time_step=0.000977, energy=-.018, maximum_val=0.397  \n"
     ]
    },
    {
     "name": "stdout",
     "output_type": "stream",
     "text": [
      "IFRK4, time_step:2^-10\n"
     ]
    },
    {
     "name": "stderr",
     "output_type": "stream",
     "text": [
      "99.90% |█████████▉| 1.00/1.00[00:02<00:00] , time_step=0.000977, energy=-.018, maximum_val=0.397  \n"
     ]
    },
    {
     "name": "stdout",
     "output_type": "stream",
     "text": [
      "IFRK54, time_step:2^-10\n"
     ]
    },
    {
     "name": "stderr",
     "output_type": "stream",
     "text": [
      "99.90% |█████████▉| 1.00/1.00[00:02<00:00] , time_step=0.000977, energy=-.018, maximum_val=0.397  \n"
     ]
    },
    {
     "name": "stdout",
     "output_type": "stream",
     "text": [
      "IFRK1, time_step:2^-11\n"
     ]
    },
    {
     "name": "stderr",
     "output_type": "stream",
     "text": [
      "99.95% |█████████▉| 1.00/1.00[00:06<00:00] , time_step=0.000488, energy=-.018, maximum_val=0.397  \n"
     ]
    },
    {
     "name": "stdout",
     "output_type": "stream",
     "text": [
      "IFRK2, time_step:2^-11\n"
     ]
    },
    {
     "name": "stderr",
     "output_type": "stream",
     "text": [
      "99.95% |█████████▉| 1.00/1.00[00:05<00:00] , time_step=0.000488, energy=-.018, maximum_val=0.397  \n"
     ]
    },
    {
     "name": "stdout",
     "output_type": "stream",
     "text": [
      "IFRK3, time_step:2^-11\n"
     ]
    },
    {
     "name": "stderr",
     "output_type": "stream",
     "text": [
      "99.95% |█████████▉| 1.00/1.00[00:06<00:00] , time_step=0.000488, energy=-.018, maximum_val=0.397  \n"
     ]
    },
    {
     "name": "stdout",
     "output_type": "stream",
     "text": [
      "IFRK4, time_step:2^-11\n"
     ]
    },
    {
     "name": "stderr",
     "output_type": "stream",
     "text": [
      "99.95% |█████████▉| 1.00/1.00[00:06<00:00] , time_step=0.000488, energy=-.018, maximum_val=0.397  \n"
     ]
    },
    {
     "name": "stdout",
     "output_type": "stream",
     "text": [
      "IFRK54, time_step:2^-11\n"
     ]
    },
    {
     "name": "stderr",
     "output_type": "stream",
     "text": [
      "99.95% |█████████▉| 1.00/1.00[00:07<00:00] , time_step=0.000488, energy=-.018, maximum_val=0.397  \n"
     ]
    }
   ],
   "source": [
    "eps = 0.01\n",
    "reference_solver_001 = Allen_Cahn_fSolver_1D(eps,t_period,s_domain,2**-12,discrete_num,initial_condition,boundary_condition,potential,\n",
    "                                step_method=\"IFRK4\")\n",
    "reference_solver_001.solve()\n",
    "\n",
    "step_method_1 = \"IFRK1\"\n",
    "step_method_2 = \"IFRK2\"\n",
    "step_method_3 = \"IFRK3\"\n",
    "step_method_4 = \"IFRK4\"\n",
    "step_method_54 = \"IFRK54\"\n",
    "\n",
    "for i in range(1,12):\n",
    "    print(f\"IFRK1, time_step:2^-{i}\")\n",
    "    globals()[f\"solver_ifrk1_001_{i}\"] = Allen_Cahn_fSolver_1D(eps,t_period,s_domain,2**-i,discrete_num,initial_condition,boundary_condition,potential,step_method_1)\n",
    "    globals()[f\"solver_ifrk1_001_{i}\"].solve()\n",
    "\n",
    "    print(f\"IFRK2, time_step:2^-{i}\")\n",
    "    globals()[f\"solver_ifrk2_001_{i}\"] = Allen_Cahn_fSolver_1D(eps,t_period,s_domain,2**-i,discrete_num,initial_condition,boundary_condition,potential,step_method_2)\n",
    "    globals()[f\"solver_ifrk2_001_{i}\"].solve()\n",
    "\n",
    "    print(f\"IFRK3, time_step:2^-{i}\")\n",
    "    globals()[f\"solver_ifrk3_001_{i}\"] = Allen_Cahn_fSolver_1D(eps,t_period,s_domain,2**-i,discrete_num,initial_condition,boundary_condition,potential,step_method_3)\n",
    "    globals()[f\"solver_ifrk3_001_{i}\"].solve()\n",
    "\n",
    "    print(f\"IFRK4, time_step:2^-{i}\")\n",
    "    globals()[f\"solver_ifrk4_001_{i}\"] = Allen_Cahn_fSolver_1D(eps,t_period,s_domain,2**-i,discrete_num,initial_condition,boundary_condition,potential,step_method_4)\n",
    "    globals()[f\"solver_ifrk4_001_{i}\"].solve()\n",
    "\n",
    "    print(f\"IFRK54, time_step:2^-{i}\")\n",
    "    globals()[f\"solver_ifrk54_001_{i}\"] = Allen_Cahn_fSolver_1D(eps,t_period,s_domain,2**-i,discrete_num,initial_condition,boundary_condition,potential,step_method_54)\n",
    "    globals()[f\"solver_ifrk54_001_{i}\"].solve()"
   ]
  },
  {
   "cell_type": "code",
   "execution_count": 6,
   "metadata": {},
   "outputs": [],
   "source": [
    "error_ifrk1_001=[]\n",
    "error_ifrk2_001=[]\n",
    "error_ifrk3_001=[]\n",
    "error_ifrk4_001=[]\n",
    "error_ifrk54_001=[]\n",
    "\n",
    "for i in range(1,12):\n",
    "    error_ifrk1_001.append(np.max(np.abs(reference_solver_001.U[-1] - globals()[f\"solver_ifrk1_001_{i}\"].U[-1])))\n",
    "    error_ifrk2_001.append(np.max(np.abs(reference_solver_001.U[-1] - globals()[f\"solver_ifrk2_001_{i}\"].U[-1])))\n",
    "    error_ifrk3_001.append(np.max(np.abs(reference_solver_001.U[-1] - globals()[f\"solver_ifrk3_001_{i}\"].U[-1])))\n",
    "    error_ifrk4_001.append(np.max(np.abs(reference_solver_001.U[-1] - globals()[f\"solver_ifrk4_001_{i}\"].U[-1])))\n",
    "    error_ifrk54_001.append(np.max(np.abs(reference_solver_001.U[-1] -globals()[f\"solver_ifrk54_001_{i}\"].U[-1])))"
   ]
  },
  {
   "cell_type": "code",
   "execution_count": 8,
   "metadata": {},
   "outputs": [
    {
     "data": {
      "image/png": "[encoded data removed]",
      "text/plain": [
       "<Figure size 1800x1200 with 4 Axes>"
      ]
     },
     "metadata": {
      "needs_background": "light"
     },
     "output_type": "display_data"
    }
   ],
   "source": [
    "fig = plt.figure(figsize=(12,8),dpi = 150)\n",
    "\n",
    "ax = plt.subplot(2,2,1)\n",
    "ax.plot([2**-i for i in range(11,0,-1)],error_ifrk1_01[::-1],\"o-\",label=r\"$\\varepsilon =0.1$\")\n",
    "ax.plot([2**-i for i in range(11,0,-1)],error_ifrk1_001[::-1],\"*-\",label=r\"$\\varepsilon =0.01$\")\n",
    "ax.plot([2**-i for i in range(11,0,-1)],[2**-i for i in range(11,0,-1)],\"--\",label=\"1st-order\")\n",
    "ax.set_xscale(\"log\");ax.set_yscale(\"log\")\n",
    "ax.set_xlim(1e-4,1);ax.set_ylim(1e-5,1)\n",
    "ax.set_xlabel(\"Time step size\")\n",
    "ax.set_ylabel(\"Supermum-norm error\")\n",
    "ax.legend()\n",
    "\n",
    "ax = plt.subplot(2,2,2)\n",
    "ax.plot([2**-i for i in range(11,0,-1)],error_ifrk2_01[::-1],\"o-\",label=r\"$\\varepsilon =0.1$\")\n",
    "ax.plot([2**-i for i in range(11,0,-1)],error_ifrk2_001[::-1],\"*-\",label=r\"$\\varepsilon =0.01$\")\n",
    "ax.plot([2**-i for i in range(11,0,-1)],[2**-(2*i) for i in range(11,0,-1)],\"--\",label=\"2st-order\")\n",
    "ax.set_xscale(\"log\");ax.set_yscale(\"log\")\n",
    "ax.set_xlim(1e-4,1);ax.set_ylim(1e-10,1)\n",
    "ax.set_xlabel(\"Time step size\")\n",
    "ax.set_ylabel(\"Supermum-norm error\")\n",
    "ax.legend()\n",
    "\n",
    "ax = plt.subplot(2,2,3)\n",
    "ax.plot([2**-i for i in range(11,0,-1)],error_ifrk3_01[::-1],\"o-\",label=r\"$\\varepsilon =0.1$\")\n",
    "ax.plot([2**-i for i in range(11,0,-1)],error_ifrk3_001[::-1],\"*-\",label=r\"$\\varepsilon =0.01$\")\n",
    "ax.plot([2**-i for i in range(11,0,-1)],[2**-(3*i) for i in range(11,0,-1)],\"--\",label=\"3st-order\")\n",
    "ax.set_xscale(\"log\");ax.set_yscale(\"log\")\n",
    "ax.set_xlim(1e-4,1);ax.set_ylim(1e-15,1)\n",
    "ax.set_xlabel(\"Time step size\")\n",
    "ax.set_ylabel(\"Supermum-norm error\")\n",
    "ax.set_yticks([1e-15,1e-10,1e-5,1])\n",
    "ax.legend()\n",
    "\n",
    "ax = plt.subplot(2,2,4)\n",
    "ax.plot([2**-i for i in range(11,0,-1)],error_ifrk4_01[::-1],\"o-\",label=r\"$IFRK4 \\varepsilon =0.1$\")\n",
    "ax.plot([2**-i for i in range(11,0,-1)],error_ifrk4_001[::-1],\"*-\",label=r\"$IFRK4 \\varepsilon =0.01$\")\n",
    "ax.plot([2**-i for i in range(11,0,-1)],error_ifrk54_01[::-1],\"o-\",label=r\"$IFRK54 \\varepsilon =0.1$\")\n",
    "ax.plot([2**-i for i in range(11,0,-1)],error_ifrk54_001[::-1],\"*-\",label=r\"$IFRK54 \\varepsilon =0.01$\")\n",
    "ax.plot([2**-i for i in range(11,0,-1)],[2**-(4*i) for i in range(11,0,-1)],\"--\",label=\"4st-order\")\n",
    "ax.set_xscale(\"log\");ax.set_yscale(\"log\")\n",
    "ax.set_xlim(1e-4,1);ax.set_ylim(1e-15,1)\n",
    "ax.set_xlabel(\"Time step size\")\n",
    "ax.set_ylabel(\"Supermum-norm error\")\n",
    "ax.set_yticks([1e-15,1e-10,1e-5,1])\n",
    "ax.legend()\n",
    "\n",
    "plt.subplots_adjust(wspace=0.4,hspace=0.4)"
   ]
  },
  {
   "cell_type": "code",
   "execution_count": 9,
   "metadata": {},
   "outputs": [
    {
     "name": "stdout",
     "output_type": "stream",
     "text": [
      "EFRK1, time_step:2^-1\n"
     ]
    },
    {
     "name": "stderr",
     "output_type": "stream",
     "text": [
      "66.67% |██████▋   | 1.00/1.50[00:00<00:00] , time_step=0.5, energy=-.0036, maximum_val=0.201\n"
     ]
    },
    {
     "name": "stdout",
     "output_type": "stream",
     "text": [
      "EFRK2, time_step:2^-1\n"
     ]
    },
    {
     "name": "stderr",
     "output_type": "stream",
     "text": [
      "66.67% |██████▋   | 1.00/1.50[00:00<00:00] , time_step=0.5, energy=-.00456, maximum_val=0.229\n"
     ]
    },
    {
     "name": "stdout",
     "output_type": "stream",
     "text": [
      "EFRK3, time_step:2^-1\n"
     ]
    },
    {
     "name": "stderr",
     "output_type": "stream",
     "text": [
      "66.67% |██████▋   | 1.00/1.50[00:00<00:00] , time_step=0.5, energy=-.00471, maximum_val=0.235\n"
     ]
    },
    {
     "name": "stdout",
     "output_type": "stream",
     "text": [
      "EFRK4, time_step:2^-1\n"
     ]
    },
    {
     "name": "stderr",
     "output_type": "stream",
     "text": [
      "66.67% |██████▋   | 1.00/1.50[00:00<00:00] , time_step=0.5, energy=-.0047, maximum_val=0.235"
     ]
    },
    {
     "name": "stdout",
     "output_type": "stream",
     "text": [
      "EFRK54, time_step:2^-1\n"
     ]
    },
    {
     "name": "stderr",
     "output_type": "stream",
     "text": [
      "\n",
      "66.67% |██████▋   | 1.00/1.50[00:00<00:00] , time_step=0.5, energy=-.00473, maximum_val=0.236\n"
     ]
    },
    {
     "name": "stdout",
     "output_type": "stream",
     "text": [
      "EFRK1, time_step:2^-2\n"
     ]
    },
    {
     "name": "stderr",
     "output_type": "stream",
     "text": [
      "80.00% |████████  | 1.00/1.25[00:00<00:00] , time_step=0.25, energy=-.00412, maximum_val=0.217\n"
     ]
    },
    {
     "name": "stdout",
     "output_type": "stream",
     "text": [
      "EFRK2, time_step:2^-2\n"
     ]
    },
    {
     "name": "stderr",
     "output_type": "stream",
     "text": [
      "80.00% |████████  | 1.00/1.25[00:00<00:00] , time_step=0.25, energy=-.00468, maximum_val=0.234\n"
     ]
    },
    {
     "name": "stdout",
     "output_type": "stream",
     "text": [
      "EFRK3, time_step:2^-2\n"
     ]
    },
    {
     "name": "stderr",
     "output_type": "stream",
     "text": [
      "80.00% |████████  | 1.00/1.25[00:00<00:00] , time_step=0.25, energy=-.00473, maximum_val=0.236\n"
     ]
    },
    {
     "name": "stdout",
     "output_type": "stream",
     "text": [
      "EFRK4, time_step:2^-2\n"
     ]
    },
    {
     "name": "stderr",
     "output_type": "stream",
     "text": [
      "80.00% |████████  | 1.00/1.25[00:00<00:00] , time_step=0.25, energy=-.00472, maximum_val=0.236\n"
     ]
    },
    {
     "name": "stdout",
     "output_type": "stream",
     "text": [
      "EFRK54, time_step:2^-2\n"
     ]
    },
    {
     "name": "stderr",
     "output_type": "stream",
     "text": [
      "80.00% |████████  | 1.00/1.25[00:00<00:00] , time_step=0.25, energy=-.00473, maximum_val=0.236\n"
     ]
    },
    {
     "name": "stdout",
     "output_type": "stream",
     "text": [
      "EFRK1, time_step:2^-3\n"
     ]
    },
    {
     "name": "stderr",
     "output_type": "stream",
     "text": [
      "88.89% |████████▉ | 1.00/1.12[00:00<00:00] , time_step=0.125, energy=-.00441, maximum_val=0.226\n"
     ]
    },
    {
     "name": "stdout",
     "output_type": "stream",
     "text": [
      "EFRK2, time_step:2^-3\n"
     ]
    },
    {
     "name": "stderr",
     "output_type": "stream",
     "text": [
      "88.89% |████████▉ | 1.00/1.12[00:00<00:00] , time_step=0.125, energy=-.00472, maximum_val=0.236\n"
     ]
    },
    {
     "name": "stdout",
     "output_type": "stream",
     "text": [
      "EFRK3, time_step:2^-3\n"
     ]
    },
    {
     "name": "stderr",
     "output_type": "stream",
     "text": [
      "88.89% |████████▉ | 1.00/1.12[00:00<00:00] , time_step=0.125, energy=-.00473, maximum_val=0.236\n"
     ]
    },
    {
     "name": "stdout",
     "output_type": "stream",
     "text": [
      "EFRK4, time_step:2^-3\n"
     ]
    },
    {
     "name": "stderr",
     "output_type": "stream",
     "text": [
      "88.89% |████████▉ | 1.00/1.12[00:00<00:00] , time_step=0.125, energy=-.00473, maximum_val=0.236\n"
     ]
    },
    {
     "name": "stdout",
     "output_type": "stream",
     "text": [
      "EFRK54, time_step:2^-3\n"
     ]
    },
    {
     "name": "stderr",
     "output_type": "stream",
     "text": [
      "88.89% |████████▉ | 1.00/1.12[00:00<00:00] , time_step=0.125, energy=-.00473, maximum_val=0.236\n"
     ]
    },
    {
     "name": "stdout",
     "output_type": "stream",
     "text": [
      "EFRK1, time_step:2^-4\n"
     ]
    },
    {
     "name": "stderr",
     "output_type": "stream",
     "text": [
      "94.12% |█████████▍| 1.00/1.06[00:00<00:00] , time_step=0.0625, energy=-.00457, maximum_val=0.231 \n"
     ]
    },
    {
     "name": "stdout",
     "output_type": "stream",
     "text": [
      "EFRK2, time_step:2^-4\n"
     ]
    },
    {
     "name": "stderr",
     "output_type": "stream",
     "text": [
      "94.12% |█████████▍| 1.00/1.06[00:00<00:00] , time_step=0.0625, energy=-.00473, maximum_val=0.236 \n"
     ]
    },
    {
     "name": "stdout",
     "output_type": "stream",
     "text": [
      "EFRK3, time_step:2^-4\n"
     ]
    },
    {
     "name": "stderr",
     "output_type": "stream",
     "text": [
      "94.12% |█████████▍| 1.00/1.06[00:00<00:00] , time_step=0.0625, energy=-.00473, maximum_val=0.236 \n"
     ]
    },
    {
     "name": "stdout",
     "output_type": "stream",
     "text": [
      "EFRK4, time_step:2^-4\n"
     ]
    },
    {
     "name": "stderr",
     "output_type": "stream",
     "text": [
      "94.12% |█████████▍| 1.00/1.06[00:00<00:00] , time_step=0.0625, energy=-.00473, maximum_val=0.236 \n"
     ]
    },
    {
     "name": "stdout",
     "output_type": "stream",
     "text": [
      "EFRK54, time_step:2^-4\n"
     ]
    },
    {
     "name": "stderr",
     "output_type": "stream",
     "text": [
      "94.12% |█████████▍| 1.00/1.06[00:00<00:00] , time_step=0.0625, energy=-.00473, maximum_val=0.236 \n"
     ]
    },
    {
     "name": "stdout",
     "output_type": "stream",
     "text": [
      "EFRK1, time_step:2^-5\n"
     ]
    },
    {
     "name": "stderr",
     "output_type": "stream",
     "text": [
      "96.97% |█████████▋| 1.00/1.03[00:00<00:00] , time_step=0.0312, energy=-.00465, maximum_val=0.234 \n"
     ]
    },
    {
     "name": "stdout",
     "output_type": "stream",
     "text": [
      "EFRK2, time_step:2^-5\n"
     ]
    },
    {
     "name": "stderr",
     "output_type": "stream",
     "text": [
      "96.97% |█████████▋| 1.00/1.03[00:00<00:00] , time_step=0.0312, energy=-.00473, maximum_val=0.236 \n"
     ]
    },
    {
     "name": "stdout",
     "output_type": "stream",
     "text": [
      "EFRK3, time_step:2^-5\n"
     ]
    },
    {
     "name": "stderr",
     "output_type": "stream",
     "text": [
      "96.97% |█████████▋| 1.00/1.03[00:00<00:00] , time_step=0.0312, energy=-.00473, maximum_val=0.236 \n"
     ]
    },
    {
     "name": "stdout",
     "output_type": "stream",
     "text": [
      "EFRK4, time_step:2^-5\n"
     ]
    },
    {
     "name": "stderr",
     "output_type": "stream",
     "text": [
      "96.97% |█████████▋| 1.00/1.03[00:00<00:00] , time_step=0.0312, energy=-.00473, maximum_val=0.236 \n"
     ]
    },
    {
     "name": "stdout",
     "output_type": "stream",
     "text": [
      "EFRK54, time_step:2^-5\n"
     ]
    },
    {
     "name": "stderr",
     "output_type": "stream",
     "text": [
      "96.97% |█████████▋| 1.00/1.03[00:00<00:00] , time_step=0.0312, energy=-.00473, maximum_val=0.236 \n"
     ]
    },
    {
     "name": "stdout",
     "output_type": "stream",
     "text": [
      "EFRK1, time_step:2^-6\n"
     ]
    },
    {
     "name": "stderr",
     "output_type": "stream",
     "text": [
      "98.46% |█████████▊| 1.00/1.02[00:00<00:00] , time_step=0.0156, energy=-.00469, maximum_val=0.235 \n"
     ]
    },
    {
     "name": "stdout",
     "output_type": "stream",
     "text": [
      "EFRK2, time_step:2^-6\n"
     ]
    },
    {
     "name": "stderr",
     "output_type": "stream",
     "text": [
      "98.46% |█████████▊| 1.00/1.02[00:00<00:00] , time_step=0.0156, energy=-.00473, maximum_val=0.236 \n"
     ]
    },
    {
     "name": "stdout",
     "output_type": "stream",
     "text": [
      "EFRK3, time_step:2^-6\n"
     ]
    },
    {
     "name": "stderr",
     "output_type": "stream",
     "text": [
      "98.46% |█████████▊| 1.00/1.02[00:00<00:00] , time_step=0.0156, energy=-.00473, maximum_val=0.236 \n"
     ]
    },
    {
     "name": "stdout",
     "output_type": "stream",
     "text": [
      "EFRK4, time_step:2^-6\n"
     ]
    },
    {
     "name": "stderr",
     "output_type": "stream",
     "text": [
      "98.46% |█████████▊| 1.00/1.02[00:00<00:00] , time_step=0.0156, energy=-.00473, maximum_val=0.236 \n"
     ]
    },
    {
     "name": "stdout",
     "output_type": "stream",
     "text": [
      "EFRK54, time_step:2^-6\n"
     ]
    },
    {
     "name": "stderr",
     "output_type": "stream",
     "text": [
      "98.46% |█████████▊| 1.00/1.02[00:00<00:00] , time_step=0.0156, energy=-.00473, maximum_val=0.236 \n"
     ]
    },
    {
     "name": "stdout",
     "output_type": "stream",
     "text": [
      "EFRK1, time_step:2^-7\n"
     ]
    },
    {
     "name": "stderr",
     "output_type": "stream",
     "text": [
      "99.22% |█████████▉| 1.00/1.01[00:00<00:00] , time_step=0.00781, energy=-.00471, maximum_val=0.236 \n"
     ]
    },
    {
     "name": "stdout",
     "output_type": "stream",
     "text": [
      "EFRK2, time_step:2^-7\n"
     ]
    },
    {
     "name": "stderr",
     "output_type": "stream",
     "text": [
      "99.22% |█████████▉| 1.00/1.01[00:00<00:00] , time_step=0.00781, energy=-.00473, maximum_val=0.236 \n"
     ]
    },
    {
     "name": "stdout",
     "output_type": "stream",
     "text": [
      "EFRK3, time_step:2^-7\n"
     ]
    },
    {
     "name": "stderr",
     "output_type": "stream",
     "text": [
      "99.22% |█████████▉| 1.00/1.01[00:00<00:00] , time_step=0.00781, energy=-.00473, maximum_val=0.236 \n"
     ]
    },
    {
     "name": "stdout",
     "output_type": "stream",
     "text": [
      "EFRK4, time_step:2^-7\n"
     ]
    },
    {
     "name": "stderr",
     "output_type": "stream",
     "text": [
      "99.22% |█████████▉| 1.00/1.01[00:00<00:00] , time_step=0.00781, energy=-.00473, maximum_val=0.236 \n"
     ]
    },
    {
     "name": "stdout",
     "output_type": "stream",
     "text": [
      "EFRK54, time_step:2^-7\n"
     ]
    },
    {
     "name": "stderr",
     "output_type": "stream",
     "text": [
      "99.22% |█████████▉| 1.00/1.01[00:00<00:00] , time_step=0.00781, energy=-.00473, maximum_val=0.236 \n"
     ]
    },
    {
     "name": "stdout",
     "output_type": "stream",
     "text": [
      "EFRK1, time_step:2^-8\n"
     ]
    },
    {
     "name": "stderr",
     "output_type": "stream",
     "text": [
      "99.61% |█████████▉| 1.00/1.00[00:00<00:00] , time_step=0.00391, energy=-.00472, maximum_val=0.236 \n"
     ]
    },
    {
     "name": "stdout",
     "output_type": "stream",
     "text": [
      "EFRK2, time_step:2^-8\n"
     ]
    },
    {
     "name": "stderr",
     "output_type": "stream",
     "text": [
      "99.61% |█████████▉| 1.00/1.00[00:00<00:00] , time_step=0.00391, energy=-.00473, maximum_val=0.236 \n"
     ]
    },
    {
     "name": "stdout",
     "output_type": "stream",
     "text": [
      "EFRK3, time_step:2^-8\n"
     ]
    },
    {
     "name": "stderr",
     "output_type": "stream",
     "text": [
      "99.61% |█████████▉| 1.00/1.00[00:00<00:00] , time_step=0.00391, energy=-.00473, maximum_val=0.236 \n"
     ]
    },
    {
     "name": "stdout",
     "output_type": "stream",
     "text": [
      "EFRK4, time_step:2^-8\n"
     ]
    },
    {
     "name": "stderr",
     "output_type": "stream",
     "text": [
      "99.61% |█████████▉| 1.00/1.00[00:00<00:00] , time_step=0.00391, energy=-.00473, maximum_val=0.236 \n"
     ]
    },
    {
     "name": "stdout",
     "output_type": "stream",
     "text": [
      "EFRK54, time_step:2^-8\n"
     ]
    },
    {
     "name": "stderr",
     "output_type": "stream",
     "text": [
      "99.61% |█████████▉| 1.00/1.00[00:00<00:00] , time_step=0.00391, energy=-.00473, maximum_val=0.236 \n"
     ]
    },
    {
     "name": "stdout",
     "output_type": "stream",
     "text": [
      "EFRK1, time_step:2^-9\n"
     ]
    },
    {
     "name": "stderr",
     "output_type": "stream",
     "text": [
      "99.81% |█████████▉| 1.00/1.00[00:00<00:00] , time_step=0.00195, energy=-.00473, maximum_val=0.236 \n"
     ]
    },
    {
     "name": "stdout",
     "output_type": "stream",
     "text": [
      "EFRK2, time_step:2^-9\n"
     ]
    },
    {
     "name": "stderr",
     "output_type": "stream",
     "text": [
      "99.81% |█████████▉| 1.00/1.00[00:00<00:00] , time_step=0.00195, energy=-.00473, maximum_val=0.236 \n"
     ]
    },
    {
     "name": "stdout",
     "output_type": "stream",
     "text": [
      "EFRK3, time_step:2^-9\n"
     ]
    },
    {
     "name": "stderr",
     "output_type": "stream",
     "text": [
      "99.81% |█████████▉| 1.00/1.00[00:00<00:00] , time_step=0.00195, energy=-.00473, maximum_val=0.236 \n"
     ]
    },
    {
     "name": "stdout",
     "output_type": "stream",
     "text": [
      "EFRK4, time_step:2^-9\n"
     ]
    },
    {
     "name": "stderr",
     "output_type": "stream",
     "text": [
      "99.81% |█████████▉| 1.00/1.00[00:00<00:00] , time_step=0.00195, energy=-.00473, maximum_val=0.236 \n"
     ]
    },
    {
     "name": "stdout",
     "output_type": "stream",
     "text": [
      "EFRK54, time_step:2^-9\n"
     ]
    },
    {
     "name": "stderr",
     "output_type": "stream",
     "text": [
      "99.81% |█████████▉| 1.00/1.00[00:00<00:00] , time_step=0.00195, energy=-.00473, maximum_val=0.236 \n"
     ]
    },
    {
     "name": "stdout",
     "output_type": "stream",
     "text": [
      "EFRK1, time_step:2^-10\n"
     ]
    },
    {
     "name": "stderr",
     "output_type": "stream",
     "text": [
      "99.90% |█████████▉| 1.00/1.00[00:01<00:00] , time_step=0.000977, energy=-.00473, maximum_val=0.236 \n"
     ]
    },
    {
     "name": "stdout",
     "output_type": "stream",
     "text": [
      "EFRK2, time_step:2^-10\n"
     ]
    },
    {
     "name": "stderr",
     "output_type": "stream",
     "text": [
      "99.90% |█████████▉| 1.00/1.00[00:01<00:00] , time_step=0.000977, energy=-.00473, maximum_val=0.236 \n"
     ]
    },
    {
     "name": "stdout",
     "output_type": "stream",
     "text": [
      "EFRK3, time_step:2^-10\n"
     ]
    },
    {
     "name": "stderr",
     "output_type": "stream",
     "text": [
      "99.90% |█████████▉| 1.00/1.00[00:01<00:00] , time_step=0.000977, energy=-.00473, maximum_val=0.236 \n"
     ]
    },
    {
     "name": "stdout",
     "output_type": "stream",
     "text": [
      "EFRK4, time_step:2^-10\n"
     ]
    },
    {
     "name": "stderr",
     "output_type": "stream",
     "text": [
      "99.90% |█████████▉| 1.00/1.00[00:02<00:00] , time_step=0.000977, energy=-.00473, maximum_val=0.236 \n"
     ]
    },
    {
     "name": "stdout",
     "output_type": "stream",
     "text": [
      "EFRK54, time_step:2^-10\n"
     ]
    },
    {
     "name": "stderr",
     "output_type": "stream",
     "text": [
      "99.90% |█████████▉| 1.00/1.00[00:02<00:00] , time_step=0.000977, energy=-.00473, maximum_val=0.236 \n"
     ]
    },
    {
     "name": "stdout",
     "output_type": "stream",
     "text": [
      "EFRK1, time_step:2^-11\n"
     ]
    },
    {
     "name": "stderr",
     "output_type": "stream",
     "text": [
      "99.95% |█████████▉| 1.00/1.00[00:05<00:00] , time_step=0.000488, energy=-.00473, maximum_val=0.236 \n"
     ]
    },
    {
     "name": "stdout",
     "output_type": "stream",
     "text": [
      "EFRK2, time_step:2^-11\n"
     ]
    },
    {
     "name": "stderr",
     "output_type": "stream",
     "text": [
      "99.95% |█████████▉| 1.00/1.00[00:06<00:00] , time_step=0.000488, energy=-.00473, maximum_val=0.236 \n"
     ]
    },
    {
     "name": "stdout",
     "output_type": "stream",
     "text": [
      "EFRK3, time_step:2^-11\n"
     ]
    },
    {
     "name": "stderr",
     "output_type": "stream",
     "text": [
      "99.95% |█████████▉| 1.00/1.00[00:06<00:00] , time_step=0.000488, energy=-.00473, maximum_val=0.236 \n"
     ]
    },
    {
     "name": "stdout",
     "output_type": "stream",
     "text": [
      "EFRK4, time_step:2^-11\n"
     ]
    },
    {
     "name": "stderr",
     "output_type": "stream",
     "text": [
      "99.95% |█████████▉| 1.00/1.00[00:07<00:00] , time_step=0.000488, energy=-.00473, maximum_val=0.236 \n"
     ]
    },
    {
     "name": "stdout",
     "output_type": "stream",
     "text": [
      "EFRK54, time_step:2^-11\n"
     ]
    },
    {
     "name": "stderr",
     "output_type": "stream",
     "text": [
      "99.95% |█████████▉| 1.00/1.00[00:06<00:00] , time_step=0.000488, energy=-.00473, maximum_val=0.236 \n"
     ]
    }
   ],
   "source": [
    "eps = 0.1\n",
    "# reference_solver_01 = Allen_Cahn_fSolver_1D(eps,t_period,s_domain,0.1*2**-12,discrete_num,initial_condition,boundary_condition,potential,step_method=\"EFRK3\")\n",
    "# reference_solver_01.solve()\n",
    "\n",
    "step_method_1 = \"EFRK1\"\n",
    "step_method_2 = \"EFRK2\"\n",
    "step_method_3 = \"EFRK3\"\n",
    "step_method_4 = \"EFRK4\"\n",
    "step_method_54 = \"EFRK54\"\n",
    "\n",
    "for i in range(1,12):\n",
    "    print(f\"EFRK1, time_step:2^-{i}\")\n",
    "    globals()[f\"solver_efrk1_01_{i}\"] = Allen_Cahn_fSolver_1D(eps,t_period,s_domain,2**-i,discrete_num,initial_condition,boundary_condition,potential,step_method_1)\n",
    "    globals()[f\"solver_efrk1_01_{i}\"].solve()\n",
    "\n",
    "    print(f\"EFRK2, time_step:2^-{i}\")\n",
    "    globals()[f\"solver_efrk2_01_{i}\"] = Allen_Cahn_fSolver_1D(eps,t_period,s_domain,2**-i,discrete_num,initial_condition,boundary_condition,potential,step_method_2)\n",
    "    globals()[f\"solver_efrk2_01_{i}\"].solve()\n",
    "\n",
    "    print(f\"EFRK3, time_step:2^-{i}\")\n",
    "    globals()[f\"solver_efrk3_01_{i}\"] = Allen_Cahn_fSolver_1D(eps,t_period,s_domain,2**-i,discrete_num,initial_condition,boundary_condition,potential,step_method_3)\n",
    "    globals()[f\"solver_efrk3_01_{i}\"].solve()\n",
    "\n",
    "    print(f\"EFRK4, time_step:2^-{i}\")\n",
    "    globals()[f\"solver_efrk4_01_{i}\"] = Allen_Cahn_fSolver_1D(eps,t_period,s_domain,2**-i,discrete_num,initial_condition,boundary_condition,potential,step_method_4)\n",
    "    globals()[f\"solver_efrk4_01_{i}\"].solve()\n",
    "\n",
    "    print(f\"EFRK54, time_step:2^-{i}\")\n",
    "    globals()[f\"solver_efrk54_01_{i}\"] = Allen_Cahn_fSolver_1D(eps,t_period,s_domain,2**-i,discrete_num,initial_condition,boundary_condition,potential,step_method_54)\n",
    "    globals()[f\"solver_efrk54_01_{i}\"].solve()"
   ]
  },
  {
   "cell_type": "code",
   "execution_count": 10,
   "metadata": {},
   "outputs": [],
   "source": [
    "error_efrk1_01=[]\n",
    "error_efrk2_01=[]\n",
    "error_efrk3_01=[]\n",
    "error_efrk4_01=[]\n",
    "error_efrk54_01=[]\n",
    "for i in range(1,12):\n",
    "    error_efrk1_01.append(np.max(np.abs(reference_solver_01.U[-1] - globals()[f\"solver_efrk1_01_{i}\"].U[-1])))\n",
    "    error_efrk2_01.append(np.max(np.abs(reference_solver_01.U[-1] - globals()[f\"solver_efrk2_01_{i}\"].U[-1])))\n",
    "    error_efrk3_01.append(np.max(np.abs(reference_solver_01.U[-1] - globals()[f\"solver_efrk3_01_{i}\"].U[-1])))\n",
    "    error_efrk4_01.append(np.max(np.abs(reference_solver_01.U[-1] - globals()[f\"solver_efrk4_01_{i}\"].U[-1])))\n",
    "    error_efrk54_01.append(np.max(np.abs(reference_solver_01.U[-1] -globals()[f\"solver_efrk54_01_{i}\"].U[-1])))"
   ]
  },
  {
   "cell_type": "code",
   "execution_count": 11,
   "metadata": {},
   "outputs": [
    {
     "name": "stdout",
     "output_type": "stream",
     "text": [
      "EFRK1, time_step:2^-1\n"
     ]
    },
    {
     "name": "stderr",
     "output_type": "stream",
     "text": [
      "66.67% |██████▋   | 1.00/1.50[00:00<00:00] , time_step=0.5, energy=-.0142, maximum_val=0.354\n"
     ]
    },
    {
     "name": "stdout",
     "output_type": "stream",
     "text": [
      "EFRK2, time_step:2^-1\n"
     ]
    },
    {
     "name": "stderr",
     "output_type": "stream",
     "text": [
      "66.67% |██████▋   | 1.00/1.50[00:00<00:00] , time_step=0.5, energy=-.0175, maximum_val=0.392\n"
     ]
    },
    {
     "name": "stdout",
     "output_type": "stream",
     "text": [
      "EFRK3, time_step:2^-1\n"
     ]
    },
    {
     "name": "stderr",
     "output_type": "stream",
     "text": [
      "66.67% |██████▋   | 1.00/1.50[00:00<00:00] , time_step=0.5, energy=-.0179, maximum_val=0.397\n"
     ]
    },
    {
     "name": "stdout",
     "output_type": "stream",
     "text": [
      "EFRK4, time_step:2^-1\n"
     ]
    },
    {
     "name": "stderr",
     "output_type": "stream",
     "text": [
      "66.67% |██████▋   | 1.00/1.50[00:00<00:00] , time_step=0.5, energy=-.0179, maximum_val=0.396\n"
     ]
    },
    {
     "name": "stdout",
     "output_type": "stream",
     "text": [
      "EFRK54, time_step:2^-1\n"
     ]
    },
    {
     "name": "stderr",
     "output_type": "stream",
     "text": [
      "66.67% |██████▋   | 1.00/1.50[00:00<00:00] , time_step=0.5, energy=-.018, maximum_val=0.397\n"
     ]
    },
    {
     "name": "stdout",
     "output_type": "stream",
     "text": [
      "EFRK1, time_step:2^-2\n"
     ]
    },
    {
     "name": "stderr",
     "output_type": "stream",
     "text": [
      "80.00% |████████  | 1.00/1.25[00:00<00:00] , time_step=0.25, energy=-.0158, maximum_val=0.373"
     ]
    },
    {
     "name": "stdout",
     "output_type": "stream",
     "text": [
      "EFRK2, time_step:2^-2\n"
     ]
    },
    {
     "name": "stderr",
     "output_type": "stream",
     "text": [
      "\n",
      "80.00% |████████  | 1.00/1.25[00:00<00:00] , time_step=0.25, energy=-.0178, maximum_val=0.396 \n"
     ]
    },
    {
     "name": "stdout",
     "output_type": "stream",
     "text": [
      "EFRK3, time_step:2^-2\n"
     ]
    },
    {
     "name": "stderr",
     "output_type": "stream",
     "text": [
      "80.00% |████████  | 1.00/1.25[00:00<00:00] , time_step=0.25, energy=-.018, maximum_val=0.397  \n"
     ]
    },
    {
     "name": "stdout",
     "output_type": "stream",
     "text": [
      "EFRK4, time_step:2^-2\n"
     ]
    },
    {
     "name": "stderr",
     "output_type": "stream",
     "text": [
      "80.00% |████████  | 1.00/1.25[00:00<00:00] , time_step=0.25, energy=-.0179, maximum_val=0.397 \n"
     ]
    },
    {
     "name": "stdout",
     "output_type": "stream",
     "text": [
      "EFRK54, time_step:2^-2\n"
     ]
    },
    {
     "name": "stderr",
     "output_type": "stream",
     "text": [
      "80.00% |████████  | 1.00/1.25[00:00<00:00] , time_step=0.25, energy=-.018, maximum_val=0.397  \n"
     ]
    },
    {
     "name": "stdout",
     "output_type": "stream",
     "text": [
      "EFRK1, time_step:2^-3\n"
     ]
    },
    {
     "name": "stderr",
     "output_type": "stream",
     "text": [
      "88.89% |████████▉ | 1.00/1.12[00:00<00:00] , time_step=0.125, energy=-.0168, maximum_val=0.384 \n"
     ]
    },
    {
     "name": "stdout",
     "output_type": "stream",
     "text": [
      "EFRK2, time_step:2^-3\n"
     ]
    },
    {
     "name": "stderr",
     "output_type": "stream",
     "text": [
      "88.89% |████████▉ | 1.00/1.12[00:00<00:00] , time_step=0.125, energy=-.0179, maximum_val=0.397 \n"
     ]
    },
    {
     "name": "stdout",
     "output_type": "stream",
     "text": [
      "EFRK3, time_step:2^-3\n"
     ]
    },
    {
     "name": "stderr",
     "output_type": "stream",
     "text": [
      "88.89% |████████▉ | 1.00/1.12[00:00<00:00] , time_step=0.125, energy=-.018, maximum_val=0.397  \n"
     ]
    },
    {
     "name": "stdout",
     "output_type": "stream",
     "text": [
      "EFRK4, time_step:2^-3\n"
     ]
    },
    {
     "name": "stderr",
     "output_type": "stream",
     "text": [
      "88.89% |████████▉ | 1.00/1.12[00:00<00:00] , time_step=0.125, energy=-.018, maximum_val=0.397  \n"
     ]
    },
    {
     "name": "stdout",
     "output_type": "stream",
     "text": [
      "EFRK54, time_step:2^-3\n"
     ]
    },
    {
     "name": "stderr",
     "output_type": "stream",
     "text": [
      "88.89% |████████▉ | 1.00/1.12[00:00<00:00] , time_step=0.125, energy=-.018, maximum_val=0.397  \n"
     ]
    },
    {
     "name": "stdout",
     "output_type": "stream",
     "text": [
      "EFRK1, time_step:2^-4\n"
     ]
    },
    {
     "name": "stderr",
     "output_type": "stream",
     "text": [
      "94.12% |█████████▍| 1.00/1.06[00:00<00:00] , time_step=0.0625, energy=-.0174, maximum_val=0.391 \n"
     ]
    },
    {
     "name": "stdout",
     "output_type": "stream",
     "text": [
      "EFRK2, time_step:2^-4\n"
     ]
    },
    {
     "name": "stderr",
     "output_type": "stream",
     "text": [
      "94.12% |█████████▍| 1.00/1.06[00:00<00:00] , time_step=0.0625, energy=-.018, maximum_val=0.397  \n"
     ]
    },
    {
     "name": "stdout",
     "output_type": "stream",
     "text": [
      "EFRK3, time_step:2^-4\n"
     ]
    },
    {
     "name": "stderr",
     "output_type": "stream",
     "text": [
      "94.12% |█████████▍| 1.00/1.06[00:00<00:00] , time_step=0.0625, energy=-.018, maximum_val=0.397  \n"
     ]
    },
    {
     "name": "stdout",
     "output_type": "stream",
     "text": [
      "EFRK4, time_step:2^-4\n"
     ]
    },
    {
     "name": "stderr",
     "output_type": "stream",
     "text": [
      "94.12% |█████████▍| 1.00/1.06[00:00<00:00] , time_step=0.0625, energy=-.018, maximum_val=0.397  \n"
     ]
    },
    {
     "name": "stdout",
     "output_type": "stream",
     "text": [
      "EFRK54, time_step:2^-4\n"
     ]
    },
    {
     "name": "stderr",
     "output_type": "stream",
     "text": [
      "94.12% |█████████▍| 1.00/1.06[00:00<00:00] , time_step=0.0625, energy=-.018, maximum_val=0.397  \n"
     ]
    },
    {
     "name": "stdout",
     "output_type": "stream",
     "text": [
      "EFRK1, time_step:2^-5\n"
     ]
    },
    {
     "name": "stderr",
     "output_type": "stream",
     "text": [
      "96.97% |█████████▋| 1.00/1.03[00:00<00:00] , time_step=0.0312, energy=-.0177, maximum_val=0.394 \n"
     ]
    },
    {
     "name": "stdout",
     "output_type": "stream",
     "text": [
      "EFRK2, time_step:2^-5\n"
     ]
    },
    {
     "name": "stderr",
     "output_type": "stream",
     "text": [
      "96.97% |█████████▋| 1.00/1.03[00:00<00:00] , time_step=0.0312, energy=-.018, maximum_val=0.397  \n"
     ]
    },
    {
     "name": "stdout",
     "output_type": "stream",
     "text": [
      "EFRK3, time_step:2^-5\n"
     ]
    },
    {
     "name": "stderr",
     "output_type": "stream",
     "text": [
      "96.97% |█████████▋| 1.00/1.03[00:00<00:00] , time_step=0.0312, energy=-.018, maximum_val=0.397  \n"
     ]
    },
    {
     "name": "stdout",
     "output_type": "stream",
     "text": [
      "EFRK4, time_step:2^-5\n"
     ]
    },
    {
     "name": "stderr",
     "output_type": "stream",
     "text": [
      "96.97% |█████████▋| 1.00/1.03[00:00<00:00] , time_step=0.0312, energy=-.018, maximum_val=0.397  \n"
     ]
    },
    {
     "name": "stdout",
     "output_type": "stream",
     "text": [
      "EFRK54, time_step:2^-5\n"
     ]
    },
    {
     "name": "stderr",
     "output_type": "stream",
     "text": [
      "96.97% |█████████▋| 1.00/1.03[00:00<00:00] , time_step=0.0312, energy=-.018, maximum_val=0.397  \n"
     ]
    },
    {
     "name": "stdout",
     "output_type": "stream",
     "text": [
      "EFRK1, time_step:2^-6\n"
     ]
    },
    {
     "name": "stderr",
     "output_type": "stream",
     "text": [
      "98.46% |█████████▊| 1.00/1.02[00:00<00:00] , time_step=0.0156, energy=-.0178, maximum_val=0.395 \n"
     ]
    },
    {
     "name": "stdout",
     "output_type": "stream",
     "text": [
      "EFRK2, time_step:2^-6\n"
     ]
    },
    {
     "name": "stderr",
     "output_type": "stream",
     "text": [
      "98.46% |█████████▊| 1.00/1.02[00:00<00:00] , time_step=0.0156, energy=-.018, maximum_val=0.397  \n"
     ]
    },
    {
     "name": "stdout",
     "output_type": "stream",
     "text": [
      "EFRK3, time_step:2^-6\n"
     ]
    },
    {
     "name": "stderr",
     "output_type": "stream",
     "text": [
      "98.46% |█████████▊| 1.00/1.02[00:00<00:00] , time_step=0.0156, energy=-.018, maximum_val=0.397  \n"
     ]
    },
    {
     "name": "stdout",
     "output_type": "stream",
     "text": [
      "EFRK4, time_step:2^-6\n"
     ]
    },
    {
     "name": "stderr",
     "output_type": "stream",
     "text": [
      "98.46% |█████████▊| 1.00/1.02[00:00<00:00] , time_step=0.0156, energy=-.018, maximum_val=0.397  \n"
     ]
    },
    {
     "name": "stdout",
     "output_type": "stream",
     "text": [
      "EFRK54, time_step:2^-6\n"
     ]
    },
    {
     "name": "stderr",
     "output_type": "stream",
     "text": [
      "98.46% |█████████▊| 1.00/1.02[00:00<00:00] , time_step=0.0156, energy=-.018, maximum_val=0.397  \n"
     ]
    },
    {
     "name": "stdout",
     "output_type": "stream",
     "text": [
      "EFRK1, time_step:2^-7\n"
     ]
    },
    {
     "name": "stderr",
     "output_type": "stream",
     "text": [
      "99.22% |█████████▉| 1.00/1.01[00:00<00:00] , time_step=0.00781, energy=-.0179, maximum_val=0.396 \n"
     ]
    },
    {
     "name": "stdout",
     "output_type": "stream",
     "text": [
      "EFRK2, time_step:2^-7\n"
     ]
    },
    {
     "name": "stderr",
     "output_type": "stream",
     "text": [
      "99.22% |█████████▉| 1.00/1.01[00:00<00:00] , time_step=0.00781, energy=-.018, maximum_val=0.397  \n"
     ]
    },
    {
     "name": "stdout",
     "output_type": "stream",
     "text": [
      "EFRK3, time_step:2^-7\n"
     ]
    },
    {
     "name": "stderr",
     "output_type": "stream",
     "text": [
      "99.22% |█████████▉| 1.00/1.01[00:00<00:00] , time_step=0.00781, energy=-.018, maximum_val=0.397  \n"
     ]
    },
    {
     "name": "stdout",
     "output_type": "stream",
     "text": [
      "EFRK4, time_step:2^-7\n"
     ]
    },
    {
     "name": "stderr",
     "output_type": "stream",
     "text": [
      "99.22% |█████████▉| 1.00/1.01[00:00<00:00] , time_step=0.00781, energy=-.018, maximum_val=0.397  \n"
     ]
    },
    {
     "name": "stdout",
     "output_type": "stream",
     "text": [
      "EFRK54, time_step:2^-7\n"
     ]
    },
    {
     "name": "stderr",
     "output_type": "stream",
     "text": [
      "99.22% |█████████▉| 1.00/1.01[00:00<00:00] , time_step=0.00781, energy=-.018, maximum_val=0.397  \n"
     ]
    },
    {
     "name": "stdout",
     "output_type": "stream",
     "text": [
      "EFRK1, time_step:2^-8\n"
     ]
    },
    {
     "name": "stderr",
     "output_type": "stream",
     "text": [
      "99.61% |█████████▉| 1.00/1.00[00:00<00:00] , time_step=0.00391, energy=-.0179, maximum_val=0.397 \n"
     ]
    },
    {
     "name": "stdout",
     "output_type": "stream",
     "text": [
      "EFRK2, time_step:2^-8\n"
     ]
    },
    {
     "name": "stderr",
     "output_type": "stream",
     "text": [
      "99.61% |█████████▉| 1.00/1.00[00:00<00:00] , time_step=0.00391, energy=-.018, maximum_val=0.397  \n"
     ]
    },
    {
     "name": "stdout",
     "output_type": "stream",
     "text": [
      "EFRK3, time_step:2^-8\n"
     ]
    },
    {
     "name": "stderr",
     "output_type": "stream",
     "text": [
      "99.61% |█████████▉| 1.00/1.00[00:00<00:00] , time_step=0.00391, energy=-.018, maximum_val=0.397  \n"
     ]
    },
    {
     "name": "stdout",
     "output_type": "stream",
     "text": [
      "EFRK4, time_step:2^-8\n"
     ]
    },
    {
     "name": "stderr",
     "output_type": "stream",
     "text": [
      "99.61% |█████████▉| 1.00/1.00[00:00<00:00] , time_step=0.00391, energy=-.018, maximum_val=0.397  \n"
     ]
    },
    {
     "name": "stdout",
     "output_type": "stream",
     "text": [
      "EFRK54, time_step:2^-8\n"
     ]
    },
    {
     "name": "stderr",
     "output_type": "stream",
     "text": [
      "99.61% |█████████▉| 1.00/1.00[00:00<00:00] , time_step=0.00391, energy=-.018, maximum_val=0.397  \n"
     ]
    },
    {
     "name": "stdout",
     "output_type": "stream",
     "text": [
      "EFRK1, time_step:2^-9\n"
     ]
    },
    {
     "name": "stderr",
     "output_type": "stream",
     "text": [
      "99.81% |█████████▉| 1.00/1.00[00:00<00:00] , time_step=0.00195, energy=-.018, maximum_val=0.397  \n"
     ]
    },
    {
     "name": "stdout",
     "output_type": "stream",
     "text": [
      "EFRK2, time_step:2^-9\n"
     ]
    },
    {
     "name": "stderr",
     "output_type": "stream",
     "text": [
      "99.81% |█████████▉| 1.00/1.00[00:00<00:00] , time_step=0.00195, energy=-.018, maximum_val=0.397  \n"
     ]
    },
    {
     "name": "stdout",
     "output_type": "stream",
     "text": [
      "EFRK3, time_step:2^-9\n"
     ]
    },
    {
     "name": "stderr",
     "output_type": "stream",
     "text": [
      "99.81% |█████████▉| 1.00/1.00[00:00<00:00] , time_step=0.00195, energy=-.018, maximum_val=0.397  \n"
     ]
    },
    {
     "name": "stdout",
     "output_type": "stream",
     "text": [
      "EFRK4, time_step:2^-9\n"
     ]
    },
    {
     "name": "stderr",
     "output_type": "stream",
     "text": [
      "99.81% |█████████▉| 1.00/1.00[00:00<00:00] , time_step=0.00195, energy=-.018, maximum_val=0.397  \n"
     ]
    },
    {
     "name": "stdout",
     "output_type": "stream",
     "text": [
      "EFRK54, time_step:2^-9\n"
     ]
    },
    {
     "name": "stderr",
     "output_type": "stream",
     "text": [
      "99.81% |█████████▉| 1.00/1.00[00:00<00:00] , time_step=0.00195, energy=-.018, maximum_val=0.397  \n"
     ]
    },
    {
     "name": "stdout",
     "output_type": "stream",
     "text": [
      "EFRK1, time_step:2^-10\n"
     ]
    },
    {
     "name": "stderr",
     "output_type": "stream",
     "text": [
      "99.90% |█████████▉| 1.00/1.00[00:01<00:00] , time_step=0.000977, energy=-.018, maximum_val=0.397  \n"
     ]
    },
    {
     "name": "stdout",
     "output_type": "stream",
     "text": [
      "EFRK2, time_step:2^-10\n"
     ]
    },
    {
     "name": "stderr",
     "output_type": "stream",
     "text": [
      "99.90% |█████████▉| 1.00/1.00[00:02<00:00] , time_step=0.000977, energy=-.018, maximum_val=0.397  \n"
     ]
    },
    {
     "name": "stdout",
     "output_type": "stream",
     "text": [
      "EFRK3, time_step:2^-10\n"
     ]
    },
    {
     "name": "stderr",
     "output_type": "stream",
     "text": [
      "99.90% |█████████▉| 1.00/1.00[00:02<00:00] , time_step=0.000977, energy=-.018, maximum_val=0.397  \n"
     ]
    },
    {
     "name": "stdout",
     "output_type": "stream",
     "text": [
      "EFRK4, time_step:2^-10\n"
     ]
    },
    {
     "name": "stderr",
     "output_type": "stream",
     "text": [
      "99.90% |█████████▉| 1.00/1.00[00:02<00:00] , time_step=0.000977, energy=-.018, maximum_val=0.397  \n"
     ]
    },
    {
     "name": "stdout",
     "output_type": "stream",
     "text": [
      "EFRK54, time_step:2^-10\n"
     ]
    },
    {
     "name": "stderr",
     "output_type": "stream",
     "text": [
      "99.90% |█████████▉| 1.00/1.00[00:02<00:00] , time_step=0.000977, energy=-.018, maximum_val=0.397  \n"
     ]
    },
    {
     "name": "stdout",
     "output_type": "stream",
     "text": [
      "EFRK1, time_step:2^-11\n"
     ]
    },
    {
     "name": "stderr",
     "output_type": "stream",
     "text": [
      "99.95% |█████████▉| 1.00/1.00[00:06<00:00] , time_step=0.000488, energy=-.018, maximum_val=0.397  \n"
     ]
    },
    {
     "name": "stdout",
     "output_type": "stream",
     "text": [
      "EFRK2, time_step:2^-11\n"
     ]
    },
    {
     "name": "stderr",
     "output_type": "stream",
     "text": [
      "99.95% |█████████▉| 1.00/1.00[00:06<00:00] , time_step=0.000488, energy=-.018, maximum_val=0.397  \n"
     ]
    },
    {
     "name": "stdout",
     "output_type": "stream",
     "text": [
      "EFRK3, time_step:2^-11\n"
     ]
    },
    {
     "name": "stderr",
     "output_type": "stream",
     "text": [
      "99.95% |█████████▉| 1.00/1.00[00:06<00:00] , time_step=0.000488, energy=-.018, maximum_val=0.397  \n"
     ]
    },
    {
     "name": "stdout",
     "output_type": "stream",
     "text": [
      "EFRK4, time_step:2^-11\n"
     ]
    },
    {
     "name": "stderr",
     "output_type": "stream",
     "text": [
      "99.95% |█████████▉| 1.00/1.00[00:06<00:00] , time_step=0.000488, energy=-.018, maximum_val=0.397  \n"
     ]
    },
    {
     "name": "stdout",
     "output_type": "stream",
     "text": [
      "EFRK54, time_step:2^-11\n"
     ]
    },
    {
     "name": "stderr",
     "output_type": "stream",
     "text": [
      "99.95% |█████████▉| 1.00/1.00[00:07<00:00] , time_step=0.000488, energy=-.018, maximum_val=0.397  \n"
     ]
    }
   ],
   "source": [
    "eps = 0.01\n",
    "# reference_solver_001 = Allen_Cahn_fSolver_1D(eps,t_period,s_domain,0.1*2**-12,discrete_num,initial_condition,boundary_condition,potential,step_method=\"EFRK3\")\n",
    "# reference_solver_001.solve()\n",
    "\n",
    "step_method_1 = \"EFRK1\"\n",
    "step_method_2 = \"EFRK2\"\n",
    "step_method_3 = \"EFRK3\"\n",
    "step_method_4 = \"EFRK4\"\n",
    "step_method_54 = \"EFRK54\"\n",
    "\n",
    "for i in range(1,12):\n",
    "    print(f\"EFRK1, time_step:2^-{i}\")\n",
    "    globals()[f\"solver_efrk1_001_{i}\"] = Allen_Cahn_fSolver_1D(eps,t_period,s_domain,2**-i,discrete_num,initial_condition,boundary_condition,potential,step_method_1)\n",
    "    globals()[f\"solver_efrk1_001_{i}\"].solve()\n",
    "\n",
    "    print(f\"EFRK2, time_step:2^-{i}\")\n",
    "    globals()[f\"solver_efrk2_001_{i}\"] = Allen_Cahn_fSolver_1D(eps,t_period,s_domain,2**-i,discrete_num,initial_condition,boundary_condition,potential,step_method_2)\n",
    "    globals()[f\"solver_efrk2_001_{i}\"].solve()\n",
    "\n",
    "    print(f\"EFRK3, time_step:2^-{i}\")\n",
    "    globals()[f\"solver_efrk3_001_{i}\"] = Allen_Cahn_fSolver_1D(eps,t_period,s_domain,2**-i,discrete_num,initial_condition,boundary_condition,potential,step_method_3)\n",
    "    globals()[f\"solver_efrk3_001_{i}\"].solve()\n",
    "\n",
    "    print(f\"EFRK4, time_step:2^-{i}\")\n",
    "    globals()[f\"solver_efrk4_001_{i}\"] = Allen_Cahn_fSolver_1D(eps,t_period,s_domain,2**-i,discrete_num,initial_condition,boundary_condition,potential,step_method_4)\n",
    "    globals()[f\"solver_efrk4_001_{i}\"].solve()\n",
    "\n",
    "    print(f\"EFRK54, time_step:2^-{i}\")\n",
    "    globals()[f\"solver_efrk54_001_{i}\"] = Allen_Cahn_fSolver_1D(eps,t_period,s_domain,2**-i,discrete_num,initial_condition,boundary_condition,potential,step_method_54)\n",
    "    globals()[f\"solver_efrk54_001_{i}\"].solve()"
   ]
  },
  {
   "cell_type": "code",
   "execution_count": 12,
   "metadata": {},
   "outputs": [],
   "source": [
    "error_efrk1_001=[]\n",
    "error_efrk2_001=[]\n",
    "error_efrk3_001=[]\n",
    "error_efrk4_001=[]\n",
    "error_efrk54_001=[]\n",
    "for i in range(1,12):\n",
    "    error_efrk1_001.append(np.max(np.abs(reference_solver_001.U[-1] - globals()[f\"solver_efrk1_001_{i}\"].U[-1])))\n",
    "    error_efrk2_001.append(np.max(np.abs(reference_solver_001.U[-1] - globals()[f\"solver_efrk2_001_{i}\"].U[-1])))\n",
    "    error_efrk3_001.append(np.max(np.abs(reference_solver_001.U[-1] - globals()[f\"solver_efrk3_001_{i}\"].U[-1])))\n",
    "    error_efrk4_001.append(np.max(np.abs(reference_solver_001.U[-1] - globals()[f\"solver_efrk4_001_{i}\"].U[-1])))\n",
    "    error_efrk54_001.append(np.max(np.abs(reference_solver_001.U[-1] -globals()[f\"solver_efrk54_001_{i}\"].U[-1])))"
   ]
  },
  {
   "cell_type": "code",
   "execution_count": 13,
   "metadata": {},
   "outputs": [
    {
     "data": {
      "image/png": "[encoded data removed]",
      "text/plain": [
       "<Figure size 1800x1200 with 4 Axes>"
      ]
     },
     "metadata": {
      "needs_background": "light"
     },
     "output_type": "display_data"
    }
   ],
   "source": [
    "\n",
    "fig = plt.figure(figsize=(12,8),dpi = 150)\n",
    "\n",
    "ax = plt.subplot(2,2,1)\n",
    "ax.plot([2**-i for i in range(11,0,-1)],error_efrk1_01[::-1],\"o-\",label=r\"$\\varepsilon =0.1$\")\n",
    "ax.plot([2**-i for i in range(11,0,-1)],error_efrk1_001[::-1],\"*-\",label=r\"$\\varepsilon =0.01$\")\n",
    "ax.plot([2**-i for i in range(11,0,-1)],[2**-i for i in range(11,0,-1)],\"--\",label=\"1st-order\")\n",
    "ax.set_xscale(\"log\");ax.set_yscale(\"log\")\n",
    "ax.set_xlim(1e-4,1);ax.set_ylim(1e-5,1)\n",
    "ax.set_xlabel(\"Time step size\")\n",
    "ax.set_ylabel(\"Supermum-norm error\")\n",
    "ax.legend()\n",
    "\n",
    "ax = plt.subplot(2,2,2)\n",
    "ax.plot([2**-i for i in range(11,0,-1)],error_efrk2_01[::-1],\"o-\",label=r\"$\\varepsilon =0.1$\")\n",
    "ax.plot([2**-i for i in range(11,0,-1)],error_efrk2_001[::-1],\"*-\",label=r\"$\\varepsilon =0.01$\")\n",
    "ax.plot([2**-i for i in range(11,0,-1)],[2**-(2*i) for i in range(11,0,-1)],\"--\",label=\"2st-order\")\n",
    "ax.set_xscale(\"log\");ax.set_yscale(\"log\")\n",
    "ax.set_xlim(1e-4,1);ax.set_ylim(1e-10,1)\n",
    "ax.set_xlabel(\"Time step size\")\n",
    "ax.set_ylabel(\"Supermum-norm error\")\n",
    "ax.legend()\n",
    "\n",
    "ax = plt.subplot(2,2,3)\n",
    "ax.plot([2**-i for i in range(11,0,-1)],error_efrk3_01[::-1],\"o-\",label=r\"$\\varepsilon =0.1$\")\n",
    "ax.plot([2**-i for i in range(11,0,-1)],error_efrk3_001[::-1],\"*-\",label=r\"$\\varepsilon =0.01$\")\n",
    "ax.plot([2**-i for i in range(11,0,-1)],[2**-(3*i) for i in range(11,0,-1)],\"--\",label=\"3st-order\")\n",
    "ax.set_xscale(\"log\");ax.set_yscale(\"log\")\n",
    "ax.set_xlim(1e-4,1);ax.set_ylim(1e-15,1)\n",
    "ax.set_xlabel(\"Time step size\")\n",
    "ax.set_ylabel(\"Supermum-norm error\")\n",
    "ax.set_yticks([1e-15,1e-10,1e-5,1])\n",
    "ax.legend()\n",
    "\n",
    "ax = plt.subplot(2,2,4)\n",
    "ax.plot([2**-i for i in range(11,0,-1)],error_efrk4_01[::-1],\"o-\",label=r\"$\\varepsilon =0.1$\")\n",
    "ax.plot([2**-i for i in range(11,0,-1)],error_efrk4_001[::-1],\"*-\",label=r\"$\\varepsilon =0.01$\")\n",
    "ax.plot([2**-i for i in range(11,0,-1)],error_efrk54_01[::-1],\"o-\",label=r\"$\\varepsilon =0.1$\")\n",
    "ax.plot([2**-i for i in range(11,0,-1)],error_efrk54_001[::-1],\"*-\",label=r\"$\\varepsilon =0.01$\")\n",
    "ax.plot([2**-i for i in range(11,0,-1)],[2**-(4*i) for i in range(11,0,-1)],\"--\",label=\"4st-order\")\n",
    "ax.set_xscale(\"log\");ax.set_yscale(\"log\")\n",
    "ax.set_xlim(1e-4,1);ax.set_ylim(1e-15,1)\n",
    "ax.set_xlabel(\"Time step size\")\n",
    "ax.set_ylabel(\"Supermum-norm error\")\n",
    "ax.set_yticks([1e-15,1e-10,1e-5,1])\n",
    "ax.legend()\n",
    "\n",
    "plt.subplots_adjust(wspace=0.4,hspace=0.4)"
   ]
  },
  {
   "attachments": {},
   "cell_type": "markdown",
   "metadata": {},
   "source": [
    "# Tests for MBP preservation"
   ]
  },
  {
   "cell_type": "code",
   "execution_count": 14,
   "metadata": {},
   "outputs": [],
   "source": [
    "eps = 0.1\n",
    "t_period = 14\n",
    "s_domain = (0,1)\n",
    "N = 512\n",
    "time_step = 0.08\n",
    "discrete_num = N\n",
    "xn = np.linspace(s_domain[0],s_domain[1],N+1)\n",
    "\n",
    "initial_condition = np.random.uniform(-0.8,0.8,N+1) \n",
    "boundary_condition = \"periodic\"\n",
    "potential = \"flory_huggins\" "
   ]
  },
  {
   "cell_type": "code",
   "execution_count": 15,
   "metadata": {},
   "outputs": [
    {
     "name": "stderr",
     "output_type": "stream",
     "text": [
      "99.99% |█████████▉| 14.00/14.00[05:08<00:00] , time_step=0.001, energy=-.261, maximum_val=0.958  \n"
     ]
    }
   ],
   "source": [
    "solver_benchmark = Allen_Cahn_fSolver_1D(eps,t_period,s_domain,1e-3,discrete_num,initial_condition,boundary_condition,potential,step_method=\"IFRK4\")\n",
    "solver_benchmark.solve()\n",
    "upper_bound = scipy.optimize.fsolve(solver_benchmark.f,.95)"
   ]
  },
  {
   "cell_type": "code",
   "execution_count": 16,
   "metadata": {},
   "outputs": [
    {
     "name": "stderr",
     "output_type": "stream",
     "text": [
      "99.43% |█████████▉| 14.00/14.08[00:00<00:00] , time_step=0.08, energy=-.261, maximum_val=0.958  \n",
      "99.43% |█████████▉| 14.00/14.08[00:00<00:00] , time_step=0.08, energy=-.261, maximum_val=0.958  \n",
      "99.43% |█████████▉| 14.00/14.08[00:00<00:00] , time_step=0.08, energy=-.261, maximum_val=0.958  \n",
      "99.43% |█████████▉| 14.00/14.08[00:00<00:00] , time_step=0.08, energy=-.261, maximum_val=0.958  \n",
      "99.43% |█████████▉| 14.00/14.08[00:00<00:00] , time_step=0.08, energy=-.261, maximum_val=0.958  \n",
      "99.43% |█████████▉| 14.00/14.08[00:00<00:00] , time_step=0.08, energy=-.261, maximum_val=0.958  \n",
      "99.43% |█████████▉| 14.00/14.08[00:00<00:00] , time_step=0.08, energy=-.261, maximum_val=0.958  \n",
      "99.43% |█████████▉| 14.00/14.08[00:00<00:00] , time_step=0.08, energy=-.261, maximum_val=0.958  \n",
      "99.43% |█████████▉| 14.00/14.08[00:00<00:00] , time_step=0.08, energy=-.261, maximum_val=0.958  \n",
      "99.43% |█████████▉| 14.00/14.08[00:00<00:00] , time_step=0.08, energy=-.261, maximum_val=0.958  \n"
     ]
    }
   ],
   "source": [
    "\n",
    "solver_ifrk1 = Allen_Cahn_fSolver_1D(eps,t_period,s_domain,time_step,discrete_num,initial_condition,boundary_condition,potential,step_method=\"IFRK1\")\n",
    "solver_ifrk1.solve()\n",
    "solver_ifrk2 = Allen_Cahn_fSolver_1D(eps,t_period,s_domain,time_step,discrete_num,initial_condition,boundary_condition,potential,step_method=\"IFRK2\")\n",
    "solver_ifrk2.solve()\n",
    "solver_ifrk3 = Allen_Cahn_fSolver_1D(eps,t_period,s_domain,time_step,discrete_num,initial_condition,boundary_condition,potential,step_method=\"IFRK3\")\n",
    "solver_ifrk3.solve()\n",
    "solver_ifrk4 = Allen_Cahn_fSolver_1D(eps,t_period,s_domain,time_step,discrete_num,initial_condition,boundary_condition,potential,step_method=\"IFRK4\")\n",
    "solver_ifrk4.solve()\n",
    "solver_ifrk54 = Allen_Cahn_fSolver_1D(eps,t_period,s_domain,time_step,discrete_num,initial_condition,boundary_condition,potential,step_method=\"IFRK54\")\n",
    "solver_ifrk54.solve()\n",
    "\n",
    "solver_efrk1 = Allen_Cahn_fSolver_1D(eps,t_period,s_domain,time_step,discrete_num,initial_condition,boundary_condition,potential,step_method=\"EFRK1\")\n",
    "solver_efrk1.solve()\n",
    "solver_efrk2 = Allen_Cahn_fSolver_1D(eps,t_period,s_domain,time_step,discrete_num,initial_condition,boundary_condition,potential,step_method=\"EFRK2\")\n",
    "solver_efrk2.solve()\n",
    "solver_efrk3 = Allen_Cahn_fSolver_1D(eps,t_period,s_domain,time_step,discrete_num,initial_condition,boundary_condition,potential,step_method=\"EFRK3\")\n",
    "solver_efrk3.solve()\n",
    "solver_efrk4 = Allen_Cahn_fSolver_1D(eps,t_period,s_domain,time_step,discrete_num,initial_condition,boundary_condition,potential,step_method=\"EFRK4\")\n",
    "solver_efrk4.solve()\n",
    "solver_efrk54 = Allen_Cahn_fSolver_1D(eps,t_period,s_domain,time_step,discrete_num,initial_condition,boundary_condition,potential,step_method=\"EFRK54\")\n",
    "solver_efrk54.solve()"
   ]
  },
  {
   "cell_type": "code",
   "execution_count": 20,
   "metadata": {},
   "outputs": [
    {
     "data": {
      "text/plain": [
       "(0.94, 0.96)"
      ]
     },
     "execution_count": 20,
     "metadata": {},
     "output_type": "execute_result"
    },
    {
     "data": {
      "image/png": "[encoded data removed]",
      "text/plain": [
       "<Figure size 1800x600 with 2 Axes>"
      ]
     },
     "metadata": {
      "needs_background": "light"
     },
     "output_type": "display_data"
    }
   ],
   "source": [
    "fig = plt.figure(figsize = (12,4),dpi = 150)\n",
    "ax = plt.subplot(1,2,1)\n",
    "\n",
    "ax.plot(solver_benchmark.tn,upper_bound*np.ones_like(solver_benchmark.tn),\"r--\")\n",
    "ax.plot(solver_benchmark.tn,np.max(np.abs(solver_benchmark.U),axis = 1),\"k-\",label = \"benchmark\")\n",
    "ax.plot(solver_ifrk1.tn,np.max(np.abs(solver_ifrk1.U),axis = 1),\"b-.\",label = \"IF1\")\n",
    "ax.plot(solver_ifrk2.tn,np.max(np.abs(solver_ifrk2.U),axis = 1),\"r--\",label = \"IFRK2\")\n",
    "\n",
    "ax.plot(solver_efrk1.tn,np.max(np.abs(solver_efrk1.U),axis = 1),\"-.\",label = \"EF1\")\n",
    "ax.plot(solver_efrk2.tn,np.max(np.abs(solver_efrk2.U),axis = 1),\":\",label = \"EFRK2\")\n",
    "ax.set_ylim([0,1]); ax.set_xlim([0,14])\n",
    "ax.legend()\n",
    "\n",
    "axins = ax.inset_axes([0.1,0.5,0.3,0.4])\n",
    "axins.plot(solver_benchmark.tn,upper_bound*np.ones_like(solver_benchmark.tn),\"r--\")\n",
    "axins.plot(solver_benchmark.tn,np.max(np.abs(solver_benchmark.U),axis = 1),\"k-\",label = \"benchmark\")\n",
    "axins.plot(solver_ifrk1.tn,np.max(np.abs(solver_ifrk1.U),axis = 1),\"b-.\",label = \"IF1\")\n",
    "axins.plot(solver_ifrk2.tn,np.max(np.abs(solver_ifrk2.U),axis = 1),\"r--\",label = \"IFRK2\")\n",
    "axins.plot(solver_efrk1.tn,np.max(np.abs(solver_efrk1.U),axis = 1),\"-.\",label = \"EF1\")\n",
    "axins.plot(solver_efrk2.tn,np.max(np.abs(solver_efrk2.U),axis = 1),\":\",label = \"EFRK2\")\n",
    "axins.set_xlim([5.,6.])\n",
    "axins.set_ylim([0.94,0.96])\n",
    "\n",
    "ax = plt.subplot(1,2,2)\n",
    "ax.plot(solver_benchmark.tn,upper_bound*np.ones_like(solver_benchmark.tn),\"r--\")\n",
    "ax.plot(solver_benchmark.tn,np.max(np.abs(solver_benchmark.U),axis = 1),\"k-\",label = \"benchmark\")\n",
    "ax.plot(solver_ifrk3.tn,np.max(np.abs(solver_ifrk3.U),axis = 1),\"b-.\",label = \"IFRK3\")\n",
    "ax.plot(solver_ifrk4.tn,np.max(np.abs(solver_ifrk4.U),axis = 1),\"r--\",label = \"IFRK4\")\n",
    "ax.plot(solver_ifrk54.tn,np.max(np.abs(solver_ifrk54.U),axis = 1),\":\",label = \"IFRK54\")\n",
    "\n",
    "ax.plot(solver_efrk3.tn,np.max(np.abs(solver_efrk3.U),axis = 1),\"b-.\",label = \"EFRK3\")\n",
    "ax.plot(solver_efrk4.tn,np.max(np.abs(solver_efrk4.U),axis = 1),\"r--\",label = \"EFRK4\")\n",
    "ax.plot(solver_efrk54.tn,np.max(np.abs(solver_efrk54.U),axis = 1),\":\",label = \"EFRK54\")\n",
    "ax.set_ylim([0,1]); ax.set_xlim([0,14])\n",
    "ax.legend()\n",
    "\n",
    "axins = ax.inset_axes([0.1,0.5,0.3,0.4])\n",
    "axins.plot(solver_benchmark.tn,upper_bound*np.ones_like(solver_benchmark.tn),\"r--\")\n",
    "axins.plot(solver_benchmark.tn,np.max(np.abs(solver_benchmark.U),axis = 1),\"k-\",label = \"benchmark\")\n",
    "axins.plot(solver_ifrk3.tn,np.max(np.abs(solver_ifrk3.U),axis = 1),\"b-.\",label = \"IFRK3\")\n",
    "axins.plot(solver_ifrk4.tn,np.max(np.abs(solver_ifrk4.U),axis = 1),\"r--\",label = \"IFRK4\")\n",
    "axins.plot(solver_ifrk54.tn,np.max(np.abs(solver_ifrk54.U),axis = 1),\":\",label = \"IFRK54\")\n",
    "\n",
    "axins.plot(solver_efrk3.tn,np.max(np.abs(solver_efrk3.U),axis = 1),\"b-.\",label = \"EFRK3\")\n",
    "axins.plot(solver_efrk4.tn,np.max(np.abs(solver_efrk4.U),axis = 1),\"r--\",label = \"EFRK4\")\n",
    "axins.plot(solver_efrk54.tn,np.max(np.abs(solver_efrk54.U),axis = 1),\":\",label = \"EFRK54\")\n",
    "axins.set_xlim([5.,6.])\n",
    "axins.set_ylim([0.94,0.96])"
   ]
  },
  {
   "attachments": {},
   "cell_type": "markdown",
   "metadata": {},
   "source": [
    "# Efficiency comparison for long-time 2D and 3D simulations"
   ]
  },
  {
   "attachments": {},
   "cell_type": "markdown",
   "metadata": {},
   "source": [
    "## 2D Simulations"
   ]
  },
  {
   "cell_type": "code",
   "execution_count": null,
   "metadata": {},
   "outputs": [],
   "source": [
    "eps = 0.01\n",
    "t_period = 310\n",
    "time_step = 0.08\n",
    "s_domain = (0,0,1,1)\n",
    "N = 64\n",
    "discrete_num = (N,N)\n",
    "\n",
    "initial_condition = np.random.uniform(-0.8,0.8,(N+1,N+1)) \n",
    "boundary_condition = \"periodic\"\n",
    "potential = \"flory_huggins\" "
   ]
  },
  {
   "cell_type": "code",
   "execution_count": null,
   "metadata": {},
   "outputs": [],
   "source": [
    "solver_rk4 = Allen_Cahn_Solver_2D(eps,t_period,s_domain,time_step,discrete_num,initial_condition,boundary_condition,potential,step_method=\"IFRK4\")\n",
    "solver_rk4.solve()"
   ]
  },
  {
   "cell_type": "code",
   "execution_count": null,
   "metadata": {},
   "outputs": [],
   "source": [
    "fig = plt.figure(figsize=(12,6),dpi = 150)\n",
    "snapshot = [int(4/time_step),int(6/time_step),int(10/time_step),\n",
    "            int(30/time_step),int(100/time_step),int(300/time_step)]\n",
    "for i in range(6):\n",
    "    ax = plt.subplot(2,3,i+1)\n",
    "    img = ax.pcolor(solver_rk4.Xh,solver_rk4.Yh,solver_rk4.U[snapshot[i]].reshape(N,N),\n",
    "              cmap = \"jet\",vmax=1,vmin=-1)\n",
    "    plt.colorbar(img,ax = ax,orientation='vertical')\n",
    "\n",
    "plt.subplots_adjust(wspace=0.3,hspace=0.3)"
   ]
  },
  {
   "cell_type": "code",
   "execution_count": null,
   "metadata": {},
   "outputs": [],
   "source": [
    "upper_bound = scipy.optimize.fsolve(solver_rk4.f,.95)\n",
    "\n",
    "fig = plt.figure(figsize = (8,3),dpi = 150)\n",
    "ax = plt.subplot(1,2,1)\n",
    "ax.plot(solver_rk4.tn,upper_bound*np.ones_like(solver_rk4.tn),\"r--\")\n",
    "ax.plot(solver_rk4.tn,np.max(np.abs(solver_rk4.U),axis = 1),\"b-\")\n",
    "ax.set_ylim([0,1]); ax.set_xlim([0,20])\n",
    "ax.set_xlabel(\"Time\")\n",
    "ax.set_ylabel(\"Supermum norm\")\n",
    "\n",
    "axins = ax.inset_axes([0.3,0.15,0.6,0.6])\n",
    "axins.plot(solver_rk4.tn,upper_bound*np.ones_like(solver_rk4.tn),\"r--\")\n",
    "axins.plot(solver_rk4.tn,np.max(np.abs(solver_rk4.U),axis = 1),\"b-\")\n",
    "axins.set_xlim([0,3])\n",
    "axins.set_ylim([0.1,1])\n",
    "\n",
    "ax = plt.subplot(1,2,2)\n",
    "ax.plot(solver_rk4.tn,solver_rk4.Energys)\n",
    "ax.set_xlim(0,t_period)\n",
    "ax.set_xlabel(\"Time\")\n",
    "ax.set_ylabel(\"Energy\")\n",
    "\n"
   ]
  },
  {
   "attachments": {},
   "cell_type": "markdown",
   "metadata": {},
   "source": [
    "## 3D simulations"
   ]
  },
  {
   "cell_type": "code",
   "execution_count": null,
   "metadata": {},
   "outputs": [],
   "source": [
    "eps = 0.01\n",
    "t_period = 310\n",
    "time_step = 0.08\n",
    "s_domain = (0,0,0,1,1,1)\n",
    "N = 32\n",
    "discrete_num = (N,N,N)\n",
    "\n",
    "initial_condition = np.random.uniform(-0.8,0.8,(N+1,N+1,N+1)) \n",
    "boundary_condition = \"periodic\"\n",
    "potential = \"flory_huggins\" "
   ]
  },
  {
   "cell_type": "code",
   "execution_count": null,
   "metadata": {},
   "outputs": [],
   "source": [
    "\n",
    "solver_rk4 = Allen_Cahn_Solver_3D(eps,t_period,s_domain,time_step,discrete_num,initial_condition,boundary_condition,potential,step_method=\"IFRK4\")\n",
    "solver_rk4.solve()"
   ]
  },
  {
   "cell_type": "code",
   "execution_count": null,
   "metadata": {},
   "outputs": [],
   "source": [
    "fig = plt.figure()\n",
    "plt.subplot(2,3,1,projection=\"3D\")"
   ]
  }
 ],
 "metadata": {
  "kernelspec": {
   "display_name": "pde",
   "language": "python",
   "name": "python3"
  },
  "language_info": {
   "codemirror_mode": {
    "name": "ipython",
    "version": 3
   },
   "file_extension": ".py",
   "mimetype": "text/x-python",
   "name": "python",
   "nbconvert_exporter": "python",
   "pygments_lexer": "ipython3",
   "version": "3.10.4"
  },
  "orig_nbformat": 4
 },
 "nbformat": 4,
 "nbformat_minor": 2
}
