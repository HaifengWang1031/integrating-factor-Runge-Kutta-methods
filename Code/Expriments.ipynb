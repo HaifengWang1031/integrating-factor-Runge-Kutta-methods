{
 "cells": [
  {
   "cell_type": "code",
   "execution_count": 1,
   "metadata": {},
   "outputs": [],
   "source": [
    "import numpy as np\n",
    "import matplotlib.pyplot as plt\n",
    "\n",
    "from Allen_Cahn_Solver import *"
   ]
  },
  {
   "cell_type": "code",
   "execution_count": 2,
   "metadata": {},
   "outputs": [],
   "source": [
    "eps = 0.001\n",
    "t_period = 2\n",
    "s_domain = (0,1)\n",
    "time_step = 1e-3\n",
    "discrete_num = 1024\n",
    "initial_condition = np.random.rand(1024+1)\n",
    "boundary_condition = \"periodic\"\n",
    "potential = \"flory_huggins\"\n",
    "step_method = \"IFRK1\"\n",
    "\n",
    "Solver_1D = Allen_Cahn_Solver_1D(eps,t_period,s_domain,time_step,discrete_num,initial_condition,boundary_condition,potential,step_method)"
   ]
  },
  {
   "cell_type": "code",
   "execution_count": 3,
   "metadata": {},
   "outputs": [
    {
     "name": "stderr",
     "output_type": "stream",
     "text": [
      "0.50%|          | 0.01/2.001 [00:17<51:42]   "
     ]
    }
   ],
   "source": [
    "Solver_1D.solve()"
   ]
  }
 ],
 "metadata": {
  "kernelspec": {
   "display_name": "pde",
   "language": "python",
   "name": "python3"
  },
  "language_info": {
   "codemirror_mode": {
    "name": "ipython",
    "version": 3
   },
   "file_extension": ".py",
   "mimetype": "text/x-python",
   "name": "python",
   "nbconvert_exporter": "python",
   "pygments_lexer": "ipython3",
   "version": "3.11.3"
  },
  "orig_nbformat": 4
 },
 "nbformat": 4,
 "nbformat_minor": 2
}
