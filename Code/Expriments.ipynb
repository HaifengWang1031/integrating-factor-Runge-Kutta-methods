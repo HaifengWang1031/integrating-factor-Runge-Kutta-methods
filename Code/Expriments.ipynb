{
 "cells": [
  {
   "cell_type": "code",
   "execution_count": 1,
   "metadata": {},
   "outputs": [],
   "source": [
    "import numpy as np\n",
    "import matplotlib.pyplot as plt\n",
    "\n",
    "from Allen_Cahn_Solver import *"
   ]
  },
  {
   "attachments": {},
   "cell_type": "markdown",
   "metadata": {},
   "source": [
    "# Convergence Test"
   ]
  },
  {
   "cell_type": "code",
   "execution_count": 2,
   "metadata": {},
   "outputs": [],
   "source": [
    "t_period = 1\n",
    "s_domain = (0,1)\n",
    "N = 2014\n",
    "discrete_num = N\n",
    "xn = np.linspace(s_domain[0],s_domain[1],N+1)\n",
    "\n",
    "initial_condition = 0.1*(np.sin(3*np.pi*xn) + np.sin(5*np.pi*xn))\n",
    "boundary_condition = \"periodic\"\n",
    "potential = \"flory_huggins\" "
   ]
  },
  {
   "cell_type": "code",
   "execution_count": 3,
   "metadata": {},
   "outputs": [
    {
     "name": "stderr",
     "output_type": "stream",
     "text": [
      "99.90%|█████████▉| 1.00/1.00[18:13<00:01] , time_step=1.7e-8, energy=0.00288, maximum_val=0.236 \n"
     ]
    }
   ],
   "source": [
    "eps = 0.1\n",
    "reference_solver_01 = Allen_Cahn_Solver_1D(eps,t_period,s_domain,0.1*2**-12,discrete_num,initial_condition,boundary_condition,potential,\n",
    "                                step_method=\"IFRK4\")\n",
    "reference_solver_01.solve()"
   ]
  },
  {
   "cell_type": "code",
   "execution_count": 4,
   "metadata": {},
   "outputs": [
    {
     "name": "stdout",
     "output_type": "stream",
     "text": [
      "IFRK1, time_step:2^-1\n"
     ]
    },
    {
     "name": "stderr",
     "output_type": "stream",
     "text": [
      "99.90%|█████████▉| 1.00/1.00[00:00<00:00] , time_step=0.5, energy=0.00223, maximum_val=0.209\n"
     ]
    },
    {
     "name": "stdout",
     "output_type": "stream",
     "text": [
      "IFRK1, time_step:2^-2\n"
     ]
    },
    {
     "name": "stderr",
     "output_type": "stream",
     "text": [
      "99.90%|█████████▉| 1.00/1.00[00:00<00:00] , time_step=0.25, energy=0.0025, maximum_val=0.221 \n"
     ]
    },
    {
     "name": "stdout",
     "output_type": "stream",
     "text": [
      "IFRK1, time_step:2^-3\n"
     ]
    },
    {
     "name": "stderr",
     "output_type": "stream",
     "text": [
      "99.90%|█████████▉| 1.00/1.00[00:00<00:00] , time_step=0.125, energy=0.00267, maximum_val=0.228\n"
     ]
    },
    {
     "name": "stdout",
     "output_type": "stream",
     "text": [
      "IFRK1, time_step:2^-4\n"
     ]
    },
    {
     "name": "stderr",
     "output_type": "stream",
     "text": [
      "99.90%|█████████▉| 1.00/1.00[00:00<00:00] , time_step=0.0625, energy=0.00277, maximum_val=0.232\n"
     ]
    },
    {
     "name": "stdout",
     "output_type": "stream",
     "text": [
      "IFRK1, time_step:2^-5\n"
     ]
    },
    {
     "name": "stderr",
     "output_type": "stream",
     "text": [
      "99.90%|█████████▉| 1.00/1.00[00:00<00:00] , time_step=0.0312, energy=0.00282, maximum_val=0.234\n"
     ]
    },
    {
     "name": "stdout",
     "output_type": "stream",
     "text": [
      "IFRK1, time_step:2^-6\n"
     ]
    },
    {
     "name": "stderr",
     "output_type": "stream",
     "text": [
      "99.90%|█████████▉| 1.00/1.00[00:00<00:00] , time_step=0.0156, energy=0.00285, maximum_val=0.235\n"
     ]
    },
    {
     "name": "stdout",
     "output_type": "stream",
     "text": [
      "IFRK1, time_step:2^-7\n"
     ]
    },
    {
     "name": "stderr",
     "output_type": "stream",
     "text": [
      "99.90%|█████████▉| 1.00/1.00[00:00<00:00] , time_step=0.00781, energy=0.00286, maximum_val=0.236\n"
     ]
    },
    {
     "name": "stdout",
     "output_type": "stream",
     "text": [
      "IFRK1, time_step:2^-8\n"
     ]
    },
    {
     "name": "stderr",
     "output_type": "stream",
     "text": [
      "99.90%|█████████▉| 1.00/1.00[00:00<00:00] , time_step=0.00391, energy=0.00287, maximum_val=0.236\n"
     ]
    },
    {
     "name": "stdout",
     "output_type": "stream",
     "text": [
      "IFRK1, time_step:2^-9\n"
     ]
    },
    {
     "name": "stderr",
     "output_type": "stream",
     "text": [
      "99.90%|█████████▉| 1.00/1.00[00:00<00:00] , time_step=0.00195, energy=0.00287, maximum_val=0.236\n"
     ]
    },
    {
     "name": "stdout",
     "output_type": "stream",
     "text": [
      "IFRK1, time_step:2^-10\n"
     ]
    },
    {
     "name": "stderr",
     "output_type": "stream",
     "text": [
      "99.90%|█████████▉| 1.00/1.00[00:02<00:00] , time_step=0.000977, energy=0.00287, maximum_val=0.236\n"
     ]
    },
    {
     "name": "stdout",
     "output_type": "stream",
     "text": [
      "IFRK1, time_step:2^-11\n"
     ]
    },
    {
     "name": "stderr",
     "output_type": "stream",
     "text": [
      "99.90%|█████████▉| 1.00/1.00[00:04<00:00] , time_step=0.000488, energy=0.00287, maximum_val=0.236\n"
     ]
    },
    {
     "name": "stdout",
     "output_type": "stream",
     "text": [
      "IFRK1, time_step:2^-12\n"
     ]
    },
    {
     "name": "stderr",
     "output_type": "stream",
     "text": [
      "99.90%|█████████▉| 1.00/1.00[00:09<00:00] , time_step=0.000244, energy=0.00287, maximum_val=0.236\n"
     ]
    },
    {
     "name": "stdout",
     "output_type": "stream",
     "text": [
      "IFRK2, time_step:2^-1\n"
     ]
    },
    {
     "name": "stderr",
     "output_type": "stream",
     "text": [
      "99.90%|█████████▉| 1.00/1.00[00:00<00:00] , time_step=0.5, energy=0.00279, maximum_val=0.233\n"
     ]
    },
    {
     "name": "stdout",
     "output_type": "stream",
     "text": [
      "IFRK2, time_step:2^-2\n"
     ]
    },
    {
     "name": "stderr",
     "output_type": "stream",
     "text": [
      "99.90%|█████████▉| 1.00/1.00[00:00<00:00] , time_step=0.25, energy=0.00285, maximum_val=0.235\n"
     ]
    },
    {
     "name": "stdout",
     "output_type": "stream",
     "text": [
      "IFRK2, time_step:2^-3\n"
     ]
    },
    {
     "name": "stderr",
     "output_type": "stream",
     "text": [
      "99.90%|█████████▉| 1.00/1.00[00:00<00:00] , time_step=0.125, energy=0.00287, maximum_val=0.236\n"
     ]
    },
    {
     "name": "stdout",
     "output_type": "stream",
     "text": [
      "IFRK2, time_step:2^-4\n"
     ]
    },
    {
     "name": "stderr",
     "output_type": "stream",
     "text": [
      "99.90%|█████████▉| 1.00/1.00[00:00<00:00] , time_step=0.0625, energy=0.00287, maximum_val=0.236\n"
     ]
    },
    {
     "name": "stdout",
     "output_type": "stream",
     "text": [
      "IFRK2, time_step:2^-5\n"
     ]
    },
    {
     "name": "stderr",
     "output_type": "stream",
     "text": [
      "99.90%|█████████▉| 1.00/1.00[00:00<00:00] , time_step=0.0312, energy=0.00287, maximum_val=0.236\n"
     ]
    },
    {
     "name": "stdout",
     "output_type": "stream",
     "text": [
      "IFRK2, time_step:2^-6\n"
     ]
    },
    {
     "name": "stderr",
     "output_type": "stream",
     "text": [
      "99.90%|█████████▉| 1.00/1.00[00:00<00:00] , time_step=0.0156, energy=0.00288, maximum_val=0.236\n"
     ]
    },
    {
     "name": "stdout",
     "output_type": "stream",
     "text": [
      "IFRK2, time_step:2^-7\n"
     ]
    },
    {
     "name": "stderr",
     "output_type": "stream",
     "text": [
      "99.90%|█████████▉| 1.00/1.00[00:00<00:00] , time_step=0.00781, energy=0.00288, maximum_val=0.236\n"
     ]
    },
    {
     "name": "stdout",
     "output_type": "stream",
     "text": [
      "IFRK2, time_step:2^-8\n"
     ]
    },
    {
     "name": "stderr",
     "output_type": "stream",
     "text": [
      "99.90%|█████████▉| 1.00/1.00[00:00<00:00] , time_step=0.00391, energy=0.00288, maximum_val=0.236\n"
     ]
    },
    {
     "name": "stdout",
     "output_type": "stream",
     "text": [
      "IFRK2, time_step:2^-9\n"
     ]
    },
    {
     "name": "stderr",
     "output_type": "stream",
     "text": [
      "99.90%|█████████▉| 1.00/1.00[00:01<00:00] , time_step=0.00195, energy=0.00288, maximum_val=0.236\n"
     ]
    },
    {
     "name": "stdout",
     "output_type": "stream",
     "text": [
      "IFRK2, time_step:2^-10\n"
     ]
    },
    {
     "name": "stderr",
     "output_type": "stream",
     "text": [
      "99.90%|█████████▉| 1.00/1.00[00:02<00:00] , time_step=0.000977, energy=0.00288, maximum_val=0.236\n"
     ]
    },
    {
     "name": "stdout",
     "output_type": "stream",
     "text": [
      "IFRK2, time_step:2^-11\n"
     ]
    },
    {
     "name": "stderr",
     "output_type": "stream",
     "text": [
      "99.90%|█████████▉| 1.00/1.00[00:05<00:00] , time_step=0.000488, energy=0.00288, maximum_val=0.236\n"
     ]
    },
    {
     "name": "stdout",
     "output_type": "stream",
     "text": [
      "IFRK2, time_step:2^-12\n"
     ]
    },
    {
     "name": "stderr",
     "output_type": "stream",
     "text": [
      "99.90%|█████████▉| 1.00/1.00[00:11<00:00] , time_step=0.000244, energy=0.00288, maximum_val=0.236\n"
     ]
    },
    {
     "name": "stdout",
     "output_type": "stream",
     "text": [
      "IFRK3, time_step:2^-1\n"
     ]
    },
    {
     "name": "stderr",
     "output_type": "stream",
     "text": [
      "99.90%|█████████▉| 1.00/1.00[00:00<00:00] , time_step=0.5, energy=0.00287, maximum_val=0.236\n"
     ]
    },
    {
     "name": "stdout",
     "output_type": "stream",
     "text": [
      "IFRK3, time_step:2^-2\n"
     ]
    },
    {
     "name": "stderr",
     "output_type": "stream",
     "text": [
      "99.90%|█████████▉| 1.00/1.00[00:00<00:00] , time_step=0.25, energy=0.00287, maximum_val=0.236\n"
     ]
    },
    {
     "name": "stdout",
     "output_type": "stream",
     "text": [
      "IFRK3, time_step:2^-3\n"
     ]
    },
    {
     "name": "stderr",
     "output_type": "stream",
     "text": [
      "99.90%|█████████▉| 1.00/1.00[00:00<00:00] , time_step=0.125, energy=0.00287, maximum_val=0.236\n"
     ]
    },
    {
     "name": "stdout",
     "output_type": "stream",
     "text": [
      "IFRK3, time_step:2^-4\n"
     ]
    },
    {
     "name": "stderr",
     "output_type": "stream",
     "text": [
      "99.90%|█████████▉| 1.00/1.00[00:00<00:00] , time_step=0.0625, energy=0.00288, maximum_val=0.236\n"
     ]
    },
    {
     "name": "stdout",
     "output_type": "stream",
     "text": [
      "IFRK3, time_step:2^-5\n"
     ]
    },
    {
     "name": "stderr",
     "output_type": "stream",
     "text": [
      "99.90%|█████████▉| 1.00/1.00[00:00<00:00] , time_step=0.0312, energy=0.00288, maximum_val=0.236\n"
     ]
    },
    {
     "name": "stdout",
     "output_type": "stream",
     "text": [
      "IFRK3, time_step:2^-6\n"
     ]
    },
    {
     "name": "stderr",
     "output_type": "stream",
     "text": [
      "99.90%|█████████▉| 1.00/1.00[00:00<00:00] , time_step=0.0156, energy=0.00288, maximum_val=0.236\n"
     ]
    },
    {
     "name": "stdout",
     "output_type": "stream",
     "text": [
      "IFRK3, time_step:2^-7\n"
     ]
    },
    {
     "name": "stderr",
     "output_type": "stream",
     "text": [
      "99.90%|█████████▉| 1.00/1.00[00:00<00:00] , time_step=0.00781, energy=0.00288, maximum_val=0.236\n"
     ]
    },
    {
     "name": "stdout",
     "output_type": "stream",
     "text": [
      "IFRK3, time_step:2^-8\n"
     ]
    },
    {
     "name": "stderr",
     "output_type": "stream",
     "text": [
      "99.90%|█████████▉| 1.00/1.00[00:01<00:00] , time_step=0.00391, energy=0.00288, maximum_val=0.236\n"
     ]
    },
    {
     "name": "stdout",
     "output_type": "stream",
     "text": [
      "IFRK3, time_step:2^-9\n"
     ]
    },
    {
     "name": "stderr",
     "output_type": "stream",
     "text": [
      "99.90%|█████████▉| 1.00/1.00[00:02<00:00] , time_step=0.00195, energy=0.00288, maximum_val=0.236\n"
     ]
    },
    {
     "name": "stdout",
     "output_type": "stream",
     "text": [
      "IFRK3, time_step:2^-10\n"
     ]
    },
    {
     "name": "stderr",
     "output_type": "stream",
     "text": [
      "99.90%|█████████▉| 1.00/1.00[00:04<00:00] , time_step=0.000977, energy=0.00288, maximum_val=0.236\n"
     ]
    },
    {
     "name": "stdout",
     "output_type": "stream",
     "text": [
      "IFRK3, time_step:2^-11\n"
     ]
    },
    {
     "name": "stderr",
     "output_type": "stream",
     "text": [
      "99.90%|█████████▉| 1.00/1.00[00:10<00:00] , time_step=0.000488, energy=0.00288, maximum_val=0.236\n"
     ]
    },
    {
     "name": "stdout",
     "output_type": "stream",
     "text": [
      "IFRK3, time_step:2^-12\n"
     ]
    },
    {
     "name": "stderr",
     "output_type": "stream",
     "text": [
      "99.90%|█████████▉| 1.00/1.00[00:21<00:00] , time_step=0.000244, energy=0.00288, maximum_val=0.236\n"
     ]
    },
    {
     "name": "stdout",
     "output_type": "stream",
     "text": [
      "IFRK4, time_step:2^-1\n"
     ]
    },
    {
     "name": "stderr",
     "output_type": "stream",
     "text": [
      "99.90%|█████████▉| 1.00/1.00[00:00<00:00] , time_step=0.5, energy=0.00287, maximum_val=0.236\n"
     ]
    },
    {
     "name": "stdout",
     "output_type": "stream",
     "text": [
      "IFRK4, time_step:2^-2\n"
     ]
    },
    {
     "name": "stderr",
     "output_type": "stream",
     "text": [
      "99.90%|█████████▉| 1.00/1.00[00:00<00:00] , time_step=0.25, energy=0.00288, maximum_val=0.236\n"
     ]
    },
    {
     "name": "stdout",
     "output_type": "stream",
     "text": [
      "IFRK4, time_step:2^-3\n"
     ]
    },
    {
     "name": "stderr",
     "output_type": "stream",
     "text": [
      "99.90%|█████████▉| 1.00/1.00[00:00<00:00] , time_step=0.125, energy=0.00288, maximum_val=0.236\n"
     ]
    },
    {
     "name": "stdout",
     "output_type": "stream",
     "text": [
      "IFRK4, time_step:2^-4\n"
     ]
    },
    {
     "name": "stderr",
     "output_type": "stream",
     "text": [
      "99.90%|█████████▉| 1.00/1.00[00:00<00:00] , time_step=0.0625, energy=0.00288, maximum_val=0.236\n"
     ]
    },
    {
     "name": "stdout",
     "output_type": "stream",
     "text": [
      "IFRK4, time_step:2^-5\n"
     ]
    },
    {
     "name": "stderr",
     "output_type": "stream",
     "text": [
      "99.90%|█████████▉| 1.00/1.00[00:00<00:00] , time_step=0.0312, energy=0.00288, maximum_val=0.236\n"
     ]
    },
    {
     "name": "stdout",
     "output_type": "stream",
     "text": [
      "IFRK4, time_step:2^-6\n"
     ]
    },
    {
     "name": "stderr",
     "output_type": "stream",
     "text": [
      "99.90%|█████████▉| 1.00/1.00[00:00<00:00] , time_step=0.0156, energy=0.00288, maximum_val=0.236\n"
     ]
    },
    {
     "name": "stdout",
     "output_type": "stream",
     "text": [
      "IFRK4, time_step:2^-7\n"
     ]
    },
    {
     "name": "stderr",
     "output_type": "stream",
     "text": [
      "99.90%|█████████▉| 1.00/1.00[00:00<00:00] , time_step=0.00781, energy=0.00288, maximum_val=0.236\n"
     ]
    },
    {
     "name": "stdout",
     "output_type": "stream",
     "text": [
      "IFRK4, time_step:2^-8\n"
     ]
    },
    {
     "name": "stderr",
     "output_type": "stream",
     "text": [
      "99.90%|█████████▉| 1.00/1.00[00:00<00:00] , time_step=0.00391, energy=0.00288, maximum_val=0.236\n"
     ]
    },
    {
     "name": "stdout",
     "output_type": "stream",
     "text": [
      "IFRK4, time_step:2^-9\n"
     ]
    },
    {
     "name": "stderr",
     "output_type": "stream",
     "text": [
      "99.90%|█████████▉| 1.00/1.00[00:01<00:00] , time_step=0.00195, energy=0.00288, maximum_val=0.236\n"
     ]
    },
    {
     "name": "stdout",
     "output_type": "stream",
     "text": [
      "IFRK4, time_step:2^-10\n"
     ]
    },
    {
     "name": "stderr",
     "output_type": "stream",
     "text": [
      "99.90%|█████████▉| 1.00/1.00[00:03<00:00] , time_step=0.000977, energy=0.00288, maximum_val=0.236\n"
     ]
    },
    {
     "name": "stdout",
     "output_type": "stream",
     "text": [
      "IFRK4, time_step:2^-11\n"
     ]
    },
    {
     "name": "stderr",
     "output_type": "stream",
     "text": [
      "99.90%|█████████▉| 1.00/1.00[00:07<00:00] , time_step=0.000488, energy=0.00288, maximum_val=0.236\n"
     ]
    },
    {
     "name": "stdout",
     "output_type": "stream",
     "text": [
      "IFRK4, time_step:2^-12\n"
     ]
    },
    {
     "name": "stderr",
     "output_type": "stream",
     "text": [
      "99.90%|█████████▉| 1.00/1.00[00:18<00:00] , time_step=0.000244, energy=0.00288, maximum_val=0.236\n"
     ]
    }
   ],
   "source": [
    "\n",
    "step_method = \"IFRK1\"\n",
    "for i in range(1,13):\n",
    "    print(f\"IFRK1, time_step:2^-{i}\")\n",
    "    globals()[f\"solver_rk1_01_{i}\"] = Allen_Cahn_Solver_1D(eps,t_period,s_domain,2**-i,discrete_num,initial_condition,boundary_condition,potential,step_method)\n",
    "    globals()[f\"solver_rk1_01_{i}\"].solve()\n",
    "\n",
    "step_method = \"IFRK2\"\n",
    "for i in range(1,13):\n",
    "    print(f\"IFRK2, time_step:2^-{i}\")\n",
    "    globals()[f\"solver_rk2_01_{i}\"] = Allen_Cahn_Solver_1D(eps,t_period,s_domain,2**-i,discrete_num,initial_condition,boundary_condition,potential,step_method)\n",
    "    globals()[f\"solver_rk2_01_{i}\"].solve()\n",
    "\n",
    "step_method = \"IFRK3\"\n",
    "for i in range(1,13):\n",
    "    print(f\"IFRK3, time_step:2^-{i}\")\n",
    "    globals()[f\"solver_rk3_01_{i}\"] = Allen_Cahn_Solver_1D(eps,t_period,s_domain,2**-i,discrete_num,initial_condition,boundary_condition,potential,step_method)\n",
    "    globals()[f\"solver_rk3_01_{i}\"].solve()\n",
    "\n",
    "\n",
    "step_method = \"IFRK4\"\n",
    "for i in range(1,13):\n",
    "    print(f\"IFRK4, time_step:2^-{i}\")\n",
    "    globals()[f\"solver_rk4_01_{i}\"] = Allen_Cahn_Solver_1D(eps,t_period,s_domain,2**-i,discrete_num,initial_condition,boundary_condition,potential,step_method)\n",
    "    globals()[f\"solver_rk4_01_{i}\"].solve()"
   ]
  },
  {
   "cell_type": "code",
   "execution_count": 5,
   "metadata": {},
   "outputs": [],
   "source": [
    "error_rk1_01=[]\n",
    "for i in range(1,13):\n",
    "    error_rk1_01.append(np.max(np.abs(reference_solver_01.U[-1] - globals()[f\"solver_rk1_01_{i}\"].U[-1])))\n",
    "\n",
    "error_rk2_01=[]\n",
    "for i in range(1,13):\n",
    "    error_rk2_01.append(np.max(np.abs(reference_solver_01.U[-1] - globals()[f\"solver_rk2_01_{i}\"].U[-1])))\n",
    "\n",
    "error_rk3_01=[]\n",
    "for i in range(1,13):\n",
    "    error_rk3_01.append(np.max(np.abs(reference_solver_01.U[-1] - globals()[f\"solver_rk3_01_{i}\"].U[-1])))\n",
    "\n",
    "error_rk4_01=[]\n",
    "for i in range(1,13):\n",
    "    error_rk4_01.append(np.max(np.abs(reference_solver_01.U[-1] - globals()[f\"solver_rk4_01_{i}\"].U[-1])))"
   ]
  },
  {
   "cell_type": "code",
   "execution_count": 6,
   "metadata": {},
   "outputs": [
    {
     "name": "stderr",
     "output_type": "stream",
     "text": [
      "99.90%|█████████▉| 1.00/1.00[17:55<00:01] , time_step=1.7e-8, energy=-.017, maximum_val=0.397   \n"
     ]
    }
   ],
   "source": [
    "eps = 0.01\n",
    "reference_solver_001 = Allen_Cahn_Solver_1D(eps,t_period,s_domain,0.1*2**-12,discrete_num,initial_condition,boundary_condition,potential,\n",
    "                                step_method=\"IFRK4\")\n",
    "reference_solver_001.solve()"
   ]
  },
  {
   "cell_type": "code",
   "execution_count": 7,
   "metadata": {},
   "outputs": [
    {
     "name": "stdout",
     "output_type": "stream",
     "text": [
      "IFRK1, time_step:2^-1\n"
     ]
    },
    {
     "name": "stderr",
     "output_type": "stream",
     "text": [
      "99.90%|█████████▉| 1.00/1.00[00:00<00:00] , time_step=0.5, energy=-.0134, maximum_val=0.354\n"
     ]
    },
    {
     "name": "stdout",
     "output_type": "stream",
     "text": [
      "IFRK1, time_step:2^-2\n"
     ]
    },
    {
     "name": "stderr",
     "output_type": "stream",
     "text": [
      "99.90%|█████████▉| 1.00/1.00[00:00<00:00] , time_step=0.25, energy=-.0149, maximum_val=0.373 \n"
     ]
    },
    {
     "name": "stdout",
     "output_type": "stream",
     "text": [
      "IFRK1, time_step:2^-3\n"
     ]
    },
    {
     "name": "stderr",
     "output_type": "stream",
     "text": [
      "99.90%|█████████▉| 1.00/1.00[00:00<00:00] , time_step=0.125, energy=-.0158, maximum_val=0.384 \n"
     ]
    },
    {
     "name": "stdout",
     "output_type": "stream",
     "text": [
      "IFRK1, time_step:2^-4\n"
     ]
    },
    {
     "name": "stderr",
     "output_type": "stream",
     "text": [
      "99.90%|█████████▉| 1.00/1.00[00:00<00:00] , time_step=0.0625, energy=-.0164, maximum_val=0.391 \n"
     ]
    },
    {
     "name": "stdout",
     "output_type": "stream",
     "text": [
      "IFRK1, time_step:2^-5\n"
     ]
    },
    {
     "name": "stderr",
     "output_type": "stream",
     "text": [
      "99.90%|█████████▉| 1.00/1.00[00:00<00:00] , time_step=0.0312, energy=-.0167, maximum_val=0.394 \n"
     ]
    },
    {
     "name": "stdout",
     "output_type": "stream",
     "text": [
      "IFRK1, time_step:2^-6\n"
     ]
    },
    {
     "name": "stderr",
     "output_type": "stream",
     "text": [
      "99.90%|█████████▉| 1.00/1.00[00:00<00:00] , time_step=0.0156, energy=-.0168, maximum_val=0.395 \n"
     ]
    },
    {
     "name": "stdout",
     "output_type": "stream",
     "text": [
      "IFRK1, time_step:2^-7\n"
     ]
    },
    {
     "name": "stderr",
     "output_type": "stream",
     "text": [
      "99.90%|█████████▉| 1.00/1.00[00:00<00:00] , time_step=0.00781, energy=-.0169, maximum_val=0.396 \n"
     ]
    },
    {
     "name": "stdout",
     "output_type": "stream",
     "text": [
      "IFRK1, time_step:2^-8\n"
     ]
    },
    {
     "name": "stderr",
     "output_type": "stream",
     "text": [
      "99.90%|█████████▉| 1.00/1.00[00:00<00:00] , time_step=0.00391, energy=-.0169, maximum_val=0.397 \n"
     ]
    },
    {
     "name": "stdout",
     "output_type": "stream",
     "text": [
      "IFRK1, time_step:2^-9\n"
     ]
    },
    {
     "name": "stderr",
     "output_type": "stream",
     "text": [
      "99.90%|█████████▉| 1.00/1.00[00:00<00:00] , time_step=0.00195, energy=-.0169, maximum_val=0.397 \n"
     ]
    },
    {
     "name": "stdout",
     "output_type": "stream",
     "text": [
      "IFRK1, time_step:2^-10\n"
     ]
    },
    {
     "name": "stderr",
     "output_type": "stream",
     "text": [
      "99.90%|█████████▉| 1.00/1.00[00:01<00:00] , time_step=0.000977, energy=-.0169, maximum_val=0.397 \n"
     ]
    },
    {
     "name": "stdout",
     "output_type": "stream",
     "text": [
      "IFRK1, time_step:2^-11\n"
     ]
    },
    {
     "name": "stderr",
     "output_type": "stream",
     "text": [
      "99.90%|█████████▉| 1.00/1.00[00:04<00:00] , time_step=0.000488, energy=-.0169, maximum_val=0.397 \n"
     ]
    },
    {
     "name": "stdout",
     "output_type": "stream",
     "text": [
      "IFRK1, time_step:2^-12\n"
     ]
    },
    {
     "name": "stderr",
     "output_type": "stream",
     "text": [
      "99.90%|█████████▉| 1.00/1.00[00:09<00:00] , time_step=0.000244, energy=-.017, maximum_val=0.397  \n"
     ]
    },
    {
     "name": "stdout",
     "output_type": "stream",
     "text": [
      "IFRK2, time_step:2^-1\n"
     ]
    },
    {
     "name": "stderr",
     "output_type": "stream",
     "text": [
      "99.90%|█████████▉| 1.00/1.00[00:00<00:00] , time_step=0.5, energy=-.0165, maximum_val=0.392\n"
     ]
    },
    {
     "name": "stdout",
     "output_type": "stream",
     "text": [
      "IFRK2, time_step:2^-2\n"
     ]
    },
    {
     "name": "stderr",
     "output_type": "stream",
     "text": [
      "99.90%|█████████▉| 1.00/1.00[00:00<00:00] , time_step=0.25, energy=-.0168, maximum_val=0.396 \n"
     ]
    },
    {
     "name": "stdout",
     "output_type": "stream",
     "text": [
      "IFRK2, time_step:2^-3\n"
     ]
    },
    {
     "name": "stderr",
     "output_type": "stream",
     "text": [
      "99.90%|█████████▉| 1.00/1.00[00:00<00:00] , time_step=0.125, energy=-.0169, maximum_val=0.397 \n"
     ]
    },
    {
     "name": "stdout",
     "output_type": "stream",
     "text": [
      "IFRK2, time_step:2^-4\n"
     ]
    },
    {
     "name": "stderr",
     "output_type": "stream",
     "text": [
      "99.90%|█████████▉| 1.00/1.00[00:00<00:00] , time_step=0.0625, energy=-.0169, maximum_val=0.397 \n"
     ]
    },
    {
     "name": "stdout",
     "output_type": "stream",
     "text": [
      "IFRK2, time_step:2^-5\n"
     ]
    },
    {
     "name": "stderr",
     "output_type": "stream",
     "text": [
      "99.90%|█████████▉| 1.00/1.00[00:00<00:00] , time_step=0.0312, energy=-.0169, maximum_val=0.397 \n"
     ]
    },
    {
     "name": "stdout",
     "output_type": "stream",
     "text": [
      "IFRK2, time_step:2^-6\n"
     ]
    },
    {
     "name": "stderr",
     "output_type": "stream",
     "text": [
      "99.90%|█████████▉| 1.00/1.00[00:00<00:00] , time_step=0.0156, energy=-.017, maximum_val=0.397  \n"
     ]
    },
    {
     "name": "stdout",
     "output_type": "stream",
     "text": [
      "IFRK2, time_step:2^-7\n"
     ]
    },
    {
     "name": "stderr",
     "output_type": "stream",
     "text": [
      "99.90%|█████████▉| 1.00/1.00[00:00<00:00] , time_step=0.00781, energy=-.017, maximum_val=0.397  \n"
     ]
    },
    {
     "name": "stdout",
     "output_type": "stream",
     "text": [
      "IFRK2, time_step:2^-8\n"
     ]
    },
    {
     "name": "stderr",
     "output_type": "stream",
     "text": [
      "99.90%|█████████▉| 1.00/1.00[00:00<00:00] , time_step=0.00391, energy=-.017, maximum_val=0.397  \n"
     ]
    },
    {
     "name": "stdout",
     "output_type": "stream",
     "text": [
      "IFRK2, time_step:2^-9\n"
     ]
    },
    {
     "name": "stderr",
     "output_type": "stream",
     "text": [
      "99.90%|█████████▉| 1.00/1.00[00:01<00:00] , time_step=0.00195, energy=-.017, maximum_val=0.397  \n"
     ]
    },
    {
     "name": "stdout",
     "output_type": "stream",
     "text": [
      "IFRK2, time_step:2^-10\n"
     ]
    },
    {
     "name": "stderr",
     "output_type": "stream",
     "text": [
      "99.90%|█████████▉| 1.00/1.00[00:02<00:00] , time_step=0.000977, energy=-.017, maximum_val=0.397  \n"
     ]
    },
    {
     "name": "stdout",
     "output_type": "stream",
     "text": [
      "IFRK2, time_step:2^-11\n"
     ]
    },
    {
     "name": "stderr",
     "output_type": "stream",
     "text": [
      "99.90%|█████████▉| 1.00/1.00[00:05<00:00] , time_step=0.000488, energy=-.017, maximum_val=0.397  \n"
     ]
    },
    {
     "name": "stdout",
     "output_type": "stream",
     "text": [
      "IFRK2, time_step:2^-12\n"
     ]
    },
    {
     "name": "stderr",
     "output_type": "stream",
     "text": [
      "99.90%|█████████▉| 1.00/1.00[00:11<00:00] , time_step=0.000244, energy=-.017, maximum_val=0.397  \n"
     ]
    },
    {
     "name": "stdout",
     "output_type": "stream",
     "text": [
      "IFRK3, time_step:2^-1\n"
     ]
    },
    {
     "name": "stderr",
     "output_type": "stream",
     "text": [
      "99.90%|█████████▉| 1.00/1.00[00:00<00:00] , time_step=0.5, energy=-.0169, maximum_val=0.397\n"
     ]
    },
    {
     "name": "stdout",
     "output_type": "stream",
     "text": [
      "IFRK3, time_step:2^-2\n"
     ]
    },
    {
     "name": "stderr",
     "output_type": "stream",
     "text": [
      "99.90%|█████████▉| 1.00/1.00[00:00<00:00] , time_step=0.25, energy=-.0169, maximum_val=0.397 \n"
     ]
    },
    {
     "name": "stdout",
     "output_type": "stream",
     "text": [
      "IFRK3, time_step:2^-3\n"
     ]
    },
    {
     "name": "stderr",
     "output_type": "stream",
     "text": [
      "99.90%|█████████▉| 1.00/1.00[00:00<00:00] , time_step=0.125, energy=-.017, maximum_val=0.397  \n"
     ]
    },
    {
     "name": "stdout",
     "output_type": "stream",
     "text": [
      "IFRK3, time_step:2^-4\n"
     ]
    },
    {
     "name": "stderr",
     "output_type": "stream",
     "text": [
      "99.90%|█████████▉| 1.00/1.00[00:00<00:00] , time_step=0.0625, energy=-.017, maximum_val=0.397  \n"
     ]
    },
    {
     "name": "stdout",
     "output_type": "stream",
     "text": [
      "IFRK3, time_step:2^-5\n"
     ]
    },
    {
     "name": "stderr",
     "output_type": "stream",
     "text": [
      "99.90%|█████████▉| 1.00/1.00[00:00<00:00] , time_step=0.0312, energy=-.017, maximum_val=0.397  \n"
     ]
    },
    {
     "name": "stdout",
     "output_type": "stream",
     "text": [
      "IFRK3, time_step:2^-6\n"
     ]
    },
    {
     "name": "stderr",
     "output_type": "stream",
     "text": [
      "99.90%|█████████▉| 1.00/1.00[00:00<00:00] , time_step=0.0156, energy=-.017, maximum_val=0.397  \n"
     ]
    },
    {
     "name": "stdout",
     "output_type": "stream",
     "text": [
      "IFRK3, time_step:2^-7\n"
     ]
    },
    {
     "name": "stderr",
     "output_type": "stream",
     "text": [
      "99.90%|█████████▉| 1.00/1.00[00:00<00:00] , time_step=0.00781, energy=-.017, maximum_val=0.397  \n"
     ]
    },
    {
     "name": "stdout",
     "output_type": "stream",
     "text": [
      "IFRK3, time_step:2^-8\n"
     ]
    },
    {
     "name": "stderr",
     "output_type": "stream",
     "text": [
      "99.90%|█████████▉| 1.00/1.00[00:01<00:00] , time_step=0.00391, energy=-.017, maximum_val=0.397  \n"
     ]
    },
    {
     "name": "stdout",
     "output_type": "stream",
     "text": [
      "IFRK3, time_step:2^-9\n"
     ]
    },
    {
     "name": "stderr",
     "output_type": "stream",
     "text": [
      "99.90%|█████████▉| 1.00/1.00[00:02<00:00] , time_step=0.00195, energy=-.017, maximum_val=0.397  \n"
     ]
    },
    {
     "name": "stdout",
     "output_type": "stream",
     "text": [
      "IFRK3, time_step:2^-10\n"
     ]
    },
    {
     "name": "stderr",
     "output_type": "stream",
     "text": [
      "99.90%|█████████▉| 1.00/1.00[00:04<00:00] , time_step=0.000977, energy=-.017, maximum_val=0.397  \n"
     ]
    },
    {
     "name": "stdout",
     "output_type": "stream",
     "text": [
      "IFRK3, time_step:2^-11\n"
     ]
    },
    {
     "name": "stderr",
     "output_type": "stream",
     "text": [
      "99.90%|█████████▉| 1.00/1.00[00:10<00:00] , time_step=0.000488, energy=-.017, maximum_val=0.397  \n"
     ]
    },
    {
     "name": "stdout",
     "output_type": "stream",
     "text": [
      "IFRK3, time_step:2^-12\n"
     ]
    },
    {
     "name": "stderr",
     "output_type": "stream",
     "text": [
      "99.90%|█████████▉| 1.00/1.00[00:21<00:00] , time_step=0.000244, energy=-.017, maximum_val=0.397  \n"
     ]
    },
    {
     "name": "stdout",
     "output_type": "stream",
     "text": [
      "IFRK4, time_step:2^-1\n"
     ]
    },
    {
     "name": "stderr",
     "output_type": "stream",
     "text": [
      "99.90%|█████████▉| 1.00/1.00[00:00<00:00] , time_step=0.5, energy=-.0169, maximum_val=0.397\n"
     ]
    },
    {
     "name": "stdout",
     "output_type": "stream",
     "text": [
      "IFRK4, time_step:2^-2\n"
     ]
    },
    {
     "name": "stderr",
     "output_type": "stream",
     "text": [
      "99.90%|█████████▉| 1.00/1.00[00:00<00:00] , time_step=0.25, energy=-.017, maximum_val=0.397  \n"
     ]
    },
    {
     "name": "stdout",
     "output_type": "stream",
     "text": [
      "IFRK4, time_step:2^-3\n"
     ]
    },
    {
     "name": "stderr",
     "output_type": "stream",
     "text": [
      "99.90%|█████████▉| 1.00/1.00[00:00<00:00] , time_step=0.125, energy=-.017, maximum_val=0.397  \n"
     ]
    },
    {
     "name": "stdout",
     "output_type": "stream",
     "text": [
      "IFRK4, time_step:2^-4\n"
     ]
    },
    {
     "name": "stderr",
     "output_type": "stream",
     "text": [
      "99.90%|█████████▉| 1.00/1.00[00:00<00:00] , time_step=0.0625, energy=-.017, maximum_val=0.397  \n"
     ]
    },
    {
     "name": "stdout",
     "output_type": "stream",
     "text": [
      "IFRK4, time_step:2^-5\n"
     ]
    },
    {
     "name": "stderr",
     "output_type": "stream",
     "text": [
      "99.90%|█████████▉| 1.00/1.00[00:00<00:00] , time_step=0.0312, energy=-.017, maximum_val=0.397  \n"
     ]
    },
    {
     "name": "stdout",
     "output_type": "stream",
     "text": [
      "IFRK4, time_step:2^-6\n"
     ]
    },
    {
     "name": "stderr",
     "output_type": "stream",
     "text": [
      "99.90%|█████████▉| 1.00/1.00[00:00<00:00] , time_step=0.0156, energy=-.017, maximum_val=0.397  \n"
     ]
    },
    {
     "name": "stdout",
     "output_type": "stream",
     "text": [
      "IFRK4, time_step:2^-7\n"
     ]
    },
    {
     "name": "stderr",
     "output_type": "stream",
     "text": [
      "99.90%|█████████▉| 1.00/1.00[00:00<00:00] , time_step=0.00781, energy=-.017, maximum_val=0.397  \n"
     ]
    },
    {
     "name": "stdout",
     "output_type": "stream",
     "text": [
      "IFRK4, time_step:2^-8\n"
     ]
    },
    {
     "name": "stderr",
     "output_type": "stream",
     "text": [
      "99.90%|█████████▉| 1.00/1.00[00:00<00:00] , time_step=0.00391, energy=-.017, maximum_val=0.397  \n"
     ]
    },
    {
     "name": "stdout",
     "output_type": "stream",
     "text": [
      "IFRK4, time_step:2^-9\n"
     ]
    },
    {
     "name": "stderr",
     "output_type": "stream",
     "text": [
      "99.90%|█████████▉| 1.00/1.00[00:01<00:00] , time_step=0.00195, energy=-.017, maximum_val=0.397  \n"
     ]
    },
    {
     "name": "stdout",
     "output_type": "stream",
     "text": [
      "IFRK4, time_step:2^-10\n"
     ]
    },
    {
     "name": "stderr",
     "output_type": "stream",
     "text": [
      "99.90%|█████████▉| 1.00/1.00[00:03<00:00] , time_step=0.000977, energy=-.017, maximum_val=0.397  \n"
     ]
    },
    {
     "name": "stdout",
     "output_type": "stream",
     "text": [
      "IFRK4, time_step:2^-11\n"
     ]
    },
    {
     "name": "stderr",
     "output_type": "stream",
     "text": [
      "99.90%|█████████▉| 1.00/1.00[00:07<00:00] , time_step=0.000488, energy=-.017, maximum_val=0.397  \n"
     ]
    },
    {
     "name": "stdout",
     "output_type": "stream",
     "text": [
      "IFRK4, time_step:2^-12\n"
     ]
    },
    {
     "name": "stderr",
     "output_type": "stream",
     "text": [
      "99.90%|█████████▉| 1.00/1.00[00:17<00:00] , time_step=0.000244, energy=-.017, maximum_val=0.397  \n"
     ]
    }
   ],
   "source": [
    "\n",
    "step_method = \"IFRK1\"\n",
    "for i in range(1,13):\n",
    "    print(f\"IFRK1, time_step:2^-{i}\")\n",
    "    globals()[f\"solver_rk1_001_{i}\"] = Allen_Cahn_Solver_1D(eps,t_period,s_domain,2**-i,discrete_num,initial_condition,boundary_condition,potential,step_method)\n",
    "    globals()[f\"solver_rk1_001_{i}\"].solve()\n",
    "\n",
    "step_method = \"IFRK2\"\n",
    "for i in range(1,13):\n",
    "    print(f\"IFRK2, time_step:2^-{i}\")\n",
    "    globals()[f\"solver_rk2_001_{i}\"] = Allen_Cahn_Solver_1D(eps,t_period,s_domain,2**-i,discrete_num,initial_condition,boundary_condition,potential,step_method)\n",
    "    globals()[f\"solver_rk2_001_{i}\"].solve()\n",
    "\n",
    "step_method = \"IFRK3\"\n",
    "for i in range(1,13):\n",
    "    print(f\"IFRK3, time_step:2^-{i}\")\n",
    "    globals()[f\"solver_rk3_001_{i}\"] = Allen_Cahn_Solver_1D(eps,t_period,s_domain,2**-i,discrete_num,initial_condition,boundary_condition,potential,step_method)\n",
    "    globals()[f\"solver_rk3_001_{i}\"].solve()\n",
    "\n",
    "\n",
    "step_method = \"IFRK4\"\n",
    "for i in range(1,13):\n",
    "    print(f\"IFRK4, time_step:2^-{i}\")\n",
    "    globals()[f\"solver_rk4_001_{i}\"] = Allen_Cahn_Solver_1D(eps,t_period,s_domain,2**-i,discrete_num,initial_condition,boundary_condition,potential,step_method)\n",
    "    globals()[f\"solver_rk4_001_{i}\"].solve()"
   ]
  },
  {
   "cell_type": "code",
   "execution_count": 8,
   "metadata": {},
   "outputs": [],
   "source": [
    "error_rk1_001=[]\n",
    "for i in range(1,13):\n",
    "    error_rk1_001.append(np.max(np.abs(reference_solver_001.U[-1] - globals()[f\"solver_rk1_001_{i}\"].U[-1])))\n",
    "\n",
    "error_rk2_001=[]\n",
    "for i in range(1,13):\n",
    "    error_rk2_001.append(np.max(np.abs(reference_solver_001.U[-1] - globals()[f\"solver_rk2_001_{i}\"].U[-1])))\n",
    "\n",
    "error_rk3_001=[]\n",
    "for i in range(1,13):\n",
    "    error_rk3_001.append(np.max(np.abs(reference_solver_001.U[-1] - globals()[f\"solver_rk3_001_{i}\"].U[-1])))\n",
    "\n",
    "error_rk4_001=[]\n",
    "for i in range(1,13):\n",
    "    error_rk4_001.append(np.max(np.abs(reference_solver_001.U[-1] - globals()[f\"solver_rk4_001_{i}\"].U[-1])))"
   ]
  },
  {
   "cell_type": "code",
   "execution_count": 65,
   "metadata": {},
   "outputs": [
    {
     "data": {
      "image/png": "[encoded data removed]",
      "text/plain": [
       "<Figure size 1800x1200 with 4 Axes>"
      ]
     },
     "metadata": {
      "needs_background": "light"
     },
     "output_type": "display_data"
    }
   ],
   "source": [
    "fig = plt.figure(figsize=(12,8),dpi = 150)\n",
    "\n",
    "ax = plt.subplot(2,2,1)\n",
    "ax.plot([2**-i for i in range(12,0,-1)],error_rk1_01[::-1],\"o-\",label=r\"$\\varepsilon =0.1$\")\n",
    "ax.plot([2**-i for i in range(12,0,-1)],error_rk1_001[::-1],\"*-\",label=r\"$\\varepsilon =0.01$\")\n",
    "ax.plot([2**-i for i in range(12,0,-1)],[2**-i for i in range(12,0,-1)],\"--\",label=\"1st-order\")\n",
    "ax.set_xscale(\"log\");ax.set_yscale(\"log\")\n",
    "ax.set_xlim(1e-4,1);ax.set_ylim(1e-5,1)\n",
    "ax.set_xlabel(\"Time step size\")\n",
    "ax.set_ylabel(\"Supermum-norm error\")\n",
    "ax.legend()\n",
    "\n",
    "ax = plt.subplot(2,2,2)\n",
    "ax.plot([2**-i for i in range(12,0,-1)],error_rk2_01[::-1],\"o-\",label=r\"$\\varepsilon =0.1$\")\n",
    "ax.plot([2**-i for i in range(12,0,-1)],error_rk2_001[::-1],\"*-\",label=r\"$\\varepsilon =0.01$\")\n",
    "ax.plot([2**-i for i in range(12,0,-1)],[2**-(2*i) for i in range(12,0,-1)],\"--\",label=\"2st-order\")\n",
    "ax.set_xscale(\"log\");ax.set_yscale(\"log\")\n",
    "ax.set_xlim(1e-4,1);ax.set_ylim(1e-10,1)\n",
    "ax.set_xlabel(\"Time step size\")\n",
    "ax.set_ylabel(\"Supermum-norm error\")\n",
    "ax.legend()\n",
    "\n",
    "ax = plt.subplot(2,2,3)\n",
    "ax.plot([2**-i for i in range(12,0,-1)],error_rk3_01[::-1],\"o-\",label=r\"$\\varepsilon =0.1$\")\n",
    "ax.plot([2**-i for i in range(12,0,-1)],error_rk3_001[::-1],\"*-\",label=r\"$\\varepsilon =0.01$\")\n",
    "ax.plot([2**-i for i in range(12,0,-1)],[2**-(3*i) for i in range(12,0,-1)],\"--\",label=\"3st-order\")\n",
    "ax.set_xscale(\"log\");ax.set_yscale(\"log\")\n",
    "ax.set_xlim(1e-4,1);ax.set_ylim(1e-15,1)\n",
    "ax.set_xlabel(\"Time step size\")\n",
    "ax.set_ylabel(\"Supermum-norm error\")\n",
    "ax.set_yticks([1e-15,1e-10,1e-5,1])\n",
    "ax.legend()\n",
    "\n",
    "ax = plt.subplot(2,2,4)\n",
    "ax.plot([2**-i for i in range(12,0,-1)],error_rk4_01[::-1],\"o-\",label=r\"$\\varepsilon =0.1$\")\n",
    "ax.plot([2**-i for i in range(12,0,-1)],error_rk4_001[::-1],\"*-\",label=r\"$\\varepsilon =0.01$\")\n",
    "ax.plot([2**-i for i in range(12,0,-1)],[2**-(4*i) for i in range(12,0,-1)],\"--\",label=\"4st-order\")\n",
    "ax.set_xscale(\"log\");ax.set_yscale(\"log\")\n",
    "ax.set_xlim(1e-4,1);ax.set_ylim(1e-15,1)\n",
    "ax.set_xlabel(\"Time step size\")\n",
    "ax.set_ylabel(\"Supermum-norm error\")\n",
    "ax.set_yticks([1e-15,1e-10,1e-5,1])\n",
    "ax.legend()\n",
    "\n",
    "plt.subplots_adjust(wspace=0.4,hspace=0.4)"
   ]
  },
  {
   "attachments": {},
   "cell_type": "markdown",
   "metadata": {},
   "source": [
    "# Tests for MBP preservation"
   ]
  },
  {
   "cell_type": "code",
   "execution_count": 12,
   "metadata": {},
   "outputs": [],
   "source": [
    "eps = 0.1\n",
    "t_period = 14\n",
    "s_domain = (0,1)\n",
    "N = 512\n",
    "time_step = 0.08\n",
    "discrete_num = N\n",
    "xn = np.linspace(s_domain[0],s_domain[1],N+1)\n",
    "\n",
    "initial_condition = np.random.uniform(-0.8,0.8,N+1) \n",
    "boundary_condition = \"periodic\"\n",
    "potential = \"flory_huggins\" \n",
    "\n",
    "\n",
    "import scipy.optimize\n",
    "upper_bound = scipy.optimize.fsolve(solver_benchmark.f,.95)"
   ]
  },
  {
   "cell_type": "code",
   "execution_count": 13,
   "metadata": {},
   "outputs": [
    {
     "name": "stderr",
     "output_type": "stream",
     "text": [
      "99.99%|█████████▉| 14.00/14.00[01:47<00:00] , time_step=0.001, energy=-.261, maximum_val=-.958    \n",
      "99.99%|█████████▉| 14.00/14.00[00:00<00:00] , time_step=0.08, energy=-.261, maximum_val=-.958    \n",
      "99.99%|█████████▉| 14.00/14.00[00:00<00:00] , time_step=0.08, energy=-.261, maximum_val=-.958   \n",
      "99.99%|█████████▉| 14.00/14.00[00:00<00:00] , time_step=0.08, energy=-.261, maximum_val=-.958   \n",
      "99.99%|█████████▉| 14.00/14.00[00:00<00:00] , time_step=0.08, energy=-.261, maximum_val=-.958   \n"
     ]
    }
   ],
   "source": [
    "solver_benchmark = Allen_Cahn_Solver_1D(eps,t_period,s_domain,1e-3,discrete_num,initial_condition,boundary_condition,potential,step_method=\"IFRK4\")\n",
    "solver_benchmark.solve()\n",
    "\n",
    "solver_rk1 = Allen_Cahn_Solver_1D(eps,t_period,s_domain,time_step,discrete_num,initial_condition,boundary_condition,potential,step_method=\"IFRK1\")\n",
    "solver_rk1.solve()\n",
    "solver_rk2 = Allen_Cahn_Solver_1D(eps,t_period,s_domain,time_step,discrete_num,initial_condition,boundary_condition,potential,step_method=\"IFRK2\")\n",
    "solver_rk2.solve()\n",
    "solver_rk3 = Allen_Cahn_Solver_1D(eps,t_period,s_domain,time_step,discrete_num,initial_condition,boundary_condition,potential,step_method=\"IFRK3\")\n",
    "solver_rk3.solve()\n",
    "solver_rk4 = Allen_Cahn_Solver_1D(eps,t_period,s_domain,time_step,discrete_num,initial_condition,boundary_condition,potential,step_method=\"IFRK4\")\n",
    "solver_rk4.solve()"
   ]
  },
  {
   "cell_type": "code",
   "execution_count": 63,
   "metadata": {},
   "outputs": [
    {
     "data": {
      "text/plain": [
       "(0.92, 0.96)"
      ]
     },
     "execution_count": 63,
     "metadata": {},
     "output_type": "execute_result"
    },
    {
     "data": {
      "image/png": "[encoded data removed]",
      "text/plain": [
       "<Figure size 1800x600 with 2 Axes>"
      ]
     },
     "metadata": {
      "needs_background": "light"
     },
     "output_type": "display_data"
    }
   ],
   "source": [
    "fig = plt.figure(figsize = (12,4),dpi = 150)\n",
    "ax = plt.subplot(1,2,1)\n",
    "\n",
    "ax.plot(solver_benchmark.tn,upper_bound*np.ones_like(solver_benchmark.tn),\"r--\")\n",
    "ax.plot(solver_benchmark.tn,np.max(np.abs(solver_benchmark.U),axis = 1),\"k-\",label = \"benchmark\")\n",
    "ax.plot(solver_rk1.tn,np.max(np.abs(solver_rk1.U),axis = 1),\"b-.\",label = \"IF1\")\n",
    "ax.plot(solver_rk2.tn,np.max(np.abs(solver_rk2.U),axis = 1),\"r--\",label = \"IFRK2\")\n",
    "ax.set_ylim([0,1]); ax.set_xlim([0,14])\n",
    "ax.legend()\n",
    "\n",
    "axins = ax.inset_axes([0.52,0.5,0.4,0.4])\n",
    "axins.plot(solver_benchmark.tn,upper_bound*np.ones_like(solver_benchmark.tn),\"r--\")\n",
    "axins.plot(solver_benchmark.tn,np.max(np.abs(solver_benchmark.U),axis = 1),\"k-\",label = \"benchmark\")\n",
    "axins.plot(solver_rk1.tn,np.max(np.abs(solver_rk1.U),axis = 1),\"b-.\",label = \"IF1\")\n",
    "axins.plot(solver_rk2.tn,np.max(np.abs(solver_rk2.U),axis = 1),\"r--\",label = \"IFRK2\")\n",
    "axins.set_xlim([5.5,6.5])\n",
    "axins.set_ylim([0.92,0.96])\n",
    "\n",
    "ax = plt.subplot(1,2,2)\n",
    "ax.plot(solver_benchmark.tn,upper_bound*np.ones_like(solver_benchmark.tn),\"r--\")\n",
    "ax.plot(solver_benchmark.tn,np.max(np.abs(solver_benchmark.U),axis = 1),\"k-\",label = \"benchmark\")\n",
    "ax.plot(solver_rk3.tn,np.max(np.abs(solver_rk3.U),axis = 1),\"b-.\",label = \"IFRK3\")\n",
    "ax.plot(solver_rk4.tn,np.max(np.abs(solver_rk4.U),axis = 1),\"r--\",label = \"IFRK4\")\n",
    "ax.set_ylim([0,1]); ax.set_xlim([0,14])\n",
    "ax.legend()\n",
    "\n",
    "axins = ax.inset_axes([0.52,0.5,0.4,0.4])\n",
    "axins.plot(solver_benchmark.tn,upper_bound*np.ones_like(solver_benchmark.tn),\"r--\")\n",
    "axins.plot(solver_benchmark.tn,np.max(np.abs(solver_benchmark.U),axis = 1),\"k-\",label = \"benchmark\")\n",
    "axins.plot(solver_rk3.tn,np.max(np.abs(solver_rk3.U),axis = 1),\"b-.\",label = \"IF1\")\n",
    "axins.plot(solver_rk4.tn,np.max(np.abs(solver_rk4.U),axis = 1),\"r--\",label = \"IFRK2\")\n",
    "axins.set_xlim([5.5,6.5])\n",
    "axins.set_ylim([0.92,0.96])"
   ]
  }
 ],
 "metadata": {
  "kernelspec": {
   "display_name": "pde",
   "language": "python",
   "name": "python3"
  },
  "language_info": {
   "codemirror_mode": {
    "name": "ipython",
    "version": 3
   },
   "file_extension": ".py",
   "mimetype": "text/x-python",
   "name": "python",
   "nbconvert_exporter": "python",
   "pygments_lexer": "ipython3",
   "version": "3.10.4"
  },
  "orig_nbformat": 4
 },
 "nbformat": 4,
 "nbformat_minor": 2
}
